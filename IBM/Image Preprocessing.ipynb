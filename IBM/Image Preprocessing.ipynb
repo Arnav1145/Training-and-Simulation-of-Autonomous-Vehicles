{
 "cells": [
  {
   "cell_type": "code",
   "execution_count": 1,
   "id": "056a478b-6299-4111-ae48-440b001f5eec",
   "metadata": {
    "tags": []
   },
   "outputs": [],
   "source": [
    "import numpy as np\n",
    "from sklearn.model_selection import train_test_split\n",
    "import cv2 as cv\n",
    "import matplotlib.pyplot as plt"
   ]
  },
  {
   "cell_type": "code",
   "execution_count": 2,
   "id": "feeb93fc-7ea2-444e-876b-3ecf235c510a",
   "metadata": {
    "tags": []
   },
   "outputs": [],
   "source": [
    "data = np.load(\"Preprocessed_Balanced_data.npy\", allow_pickle=True)"
   ]
  },
  {
   "cell_type": "code",
   "execution_count": 4,
   "id": "bbb37b15-1605-4f01-8420-9e6dfdc7b02b",
   "metadata": {
    "tags": []
   },
   "outputs": [],
   "source": [
    "imgs = data[0]\n",
    "steering = data[1]"
   ]
  },
  {
   "cell_type": "code",
   "execution_count": null,
   "id": "ef2a32d2-30d7-4f8e-bbf2-68526d6663ab",
   "metadata": {},
   "outputs": [],
   "source": []
  },
  {
   "cell_type": "code",
   "execution_count": null,
   "id": "37c15419-13cb-4623-b4c7-c691decc8b68",
   "metadata": {},
   "outputs": [],
   "source": []
  }
 ],
 "metadata": {
  "kernelspec": {
   "display_name": "Python 3 (ipykernel)",
   "language": "python",
   "name": "python3"
  },
  "language_info": {
   "codemirror_mode": {
    "name": "ipython",
    "version": 3
   },
   "file_extension": ".py",
   "mimetype": "text/x-python",
   "name": "python",
   "nbconvert_exporter": "python",
   "pygments_lexer": "ipython3",
   "version": "3.8.10"
  }
 },
 "nbformat": 4,
 "nbformat_minor": 5
}
