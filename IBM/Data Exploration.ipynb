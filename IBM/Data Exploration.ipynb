{
 "cells": [
  {
   "cell_type": "markdown",
   "id": "8a233b7f-b7bc-4619-bf20-b3faa03e45e0",
   "metadata": {},
   "source": [
    "## Importing Libraries"
   ]
  },
  {
   "cell_type": "code",
   "execution_count": 1,
   "id": "6906d45e-d830-4bc7-9cfd-a98b41361895",
   "metadata": {
    "tags": []
   },
   "outputs": [],
   "source": [
    "import numpy as np\n",
    "import pandas as pd\n",
    "\n",
    "#library for shuffling the dataset\n",
    "from sklearn.utils import shuffle\n",
    "import matplotlib.pyplot as plt"
   ]
  },
  {
   "cell_type": "code",
   "execution_count": 3,
   "id": "64fc4baf-7880-4496-ad91-c309d5b361ba",
   "metadata": {
    "tags": []
   },
   "outputs": [],
   "source": [
    "col_names = ['Center','Left','Right','Steering','Throttle','Break','Speed']\n",
    "df = pd.read_csv(\"D:\\ARNAV\\Jupyter notebook\\Autonomus Cars My Codes\\AV Simulation\\driving_log.csv\", names = col_names)"
   ]
  },
  {
   "cell_type": "code",
   "execution_count": 4,
   "id": "86c6c91b-9340-4795-9b34-eadca63c76e1",
   "metadata": {
    "tags": []
   },
   "outputs": [
    {
     "data": {
      "text/html": [
       "<div>\n",
       "<style scoped>\n",
       "    .dataframe tbody tr th:only-of-type {\n",
       "        vertical-align: middle;\n",
       "    }\n",
       "\n",
       "    .dataframe tbody tr th {\n",
       "        vertical-align: top;\n",
       "    }\n",
       "\n",
       "    .dataframe thead th {\n",
       "        text-align: right;\n",
       "    }\n",
       "</style>\n",
       "<table border=\"1\" class=\"dataframe\">\n",
       "  <thead>\n",
       "    <tr style=\"text-align: right;\">\n",
       "      <th></th>\n",
       "      <th>Center</th>\n",
       "      <th>Left</th>\n",
       "      <th>Right</th>\n",
       "      <th>Steering</th>\n",
       "      <th>Throttle</th>\n",
       "      <th>Break</th>\n",
       "      <th>Speed</th>\n",
       "    </tr>\n",
       "  </thead>\n",
       "  <tbody>\n",
       "    <tr>\n",
       "      <th>0</th>\n",
       "      <td>D:\\ARNAV\\Jupyter notebook\\Autonomus Cars My Co...</td>\n",
       "      <td>D:\\ARNAV\\Jupyter notebook\\Autonomus Cars My C...</td>\n",
       "      <td>D:\\ARNAV\\Jupyter notebook\\Autonomus Cars My C...</td>\n",
       "      <td>0.0</td>\n",
       "      <td>0.0</td>\n",
       "      <td>0.0</td>\n",
       "      <td>0.000085</td>\n",
       "    </tr>\n",
       "    <tr>\n",
       "      <th>1</th>\n",
       "      <td>D:\\ARNAV\\Jupyter notebook\\Autonomus Cars My Co...</td>\n",
       "      <td>D:\\ARNAV\\Jupyter notebook\\Autonomus Cars My C...</td>\n",
       "      <td>D:\\ARNAV\\Jupyter notebook\\Autonomus Cars My C...</td>\n",
       "      <td>0.0</td>\n",
       "      <td>0.0</td>\n",
       "      <td>0.0</td>\n",
       "      <td>0.000078</td>\n",
       "    </tr>\n",
       "    <tr>\n",
       "      <th>2</th>\n",
       "      <td>D:\\ARNAV\\Jupyter notebook\\Autonomus Cars My Co...</td>\n",
       "      <td>D:\\ARNAV\\Jupyter notebook\\Autonomus Cars My C...</td>\n",
       "      <td>D:\\ARNAV\\Jupyter notebook\\Autonomus Cars My C...</td>\n",
       "      <td>0.0</td>\n",
       "      <td>0.0</td>\n",
       "      <td>0.0</td>\n",
       "      <td>0.000078</td>\n",
       "    </tr>\n",
       "    <tr>\n",
       "      <th>3</th>\n",
       "      <td>D:\\ARNAV\\Jupyter notebook\\Autonomus Cars My Co...</td>\n",
       "      <td>D:\\ARNAV\\Jupyter notebook\\Autonomus Cars My C...</td>\n",
       "      <td>D:\\ARNAV\\Jupyter notebook\\Autonomus Cars My C...</td>\n",
       "      <td>0.0</td>\n",
       "      <td>0.0</td>\n",
       "      <td>0.0</td>\n",
       "      <td>0.000080</td>\n",
       "    </tr>\n",
       "    <tr>\n",
       "      <th>4</th>\n",
       "      <td>D:\\ARNAV\\Jupyter notebook\\Autonomus Cars My Co...</td>\n",
       "      <td>D:\\ARNAV\\Jupyter notebook\\Autonomus Cars My C...</td>\n",
       "      <td>D:\\ARNAV\\Jupyter notebook\\Autonomus Cars My C...</td>\n",
       "      <td>0.0</td>\n",
       "      <td>0.0</td>\n",
       "      <td>0.0</td>\n",
       "      <td>0.000078</td>\n",
       "    </tr>\n",
       "  </tbody>\n",
       "</table>\n",
       "</div>"
      ],
      "text/plain": [
       "                                              Center  \\\n",
       "0  D:\\ARNAV\\Jupyter notebook\\Autonomus Cars My Co...   \n",
       "1  D:\\ARNAV\\Jupyter notebook\\Autonomus Cars My Co...   \n",
       "2  D:\\ARNAV\\Jupyter notebook\\Autonomus Cars My Co...   \n",
       "3  D:\\ARNAV\\Jupyter notebook\\Autonomus Cars My Co...   \n",
       "4  D:\\ARNAV\\Jupyter notebook\\Autonomus Cars My Co...   \n",
       "\n",
       "                                                Left  \\\n",
       "0   D:\\ARNAV\\Jupyter notebook\\Autonomus Cars My C...   \n",
       "1   D:\\ARNAV\\Jupyter notebook\\Autonomus Cars My C...   \n",
       "2   D:\\ARNAV\\Jupyter notebook\\Autonomus Cars My C...   \n",
       "3   D:\\ARNAV\\Jupyter notebook\\Autonomus Cars My C...   \n",
       "4   D:\\ARNAV\\Jupyter notebook\\Autonomus Cars My C...   \n",
       "\n",
       "                                               Right  Steering  Throttle  \\\n",
       "0   D:\\ARNAV\\Jupyter notebook\\Autonomus Cars My C...       0.0       0.0   \n",
       "1   D:\\ARNAV\\Jupyter notebook\\Autonomus Cars My C...       0.0       0.0   \n",
       "2   D:\\ARNAV\\Jupyter notebook\\Autonomus Cars My C...       0.0       0.0   \n",
       "3   D:\\ARNAV\\Jupyter notebook\\Autonomus Cars My C...       0.0       0.0   \n",
       "4   D:\\ARNAV\\Jupyter notebook\\Autonomus Cars My C...       0.0       0.0   \n",
       "\n",
       "   Break     Speed  \n",
       "0    0.0  0.000085  \n",
       "1    0.0  0.000078  \n",
       "2    0.0  0.000078  \n",
       "3    0.0  0.000080  \n",
       "4    0.0  0.000078  "
      ]
     },
     "execution_count": 4,
     "metadata": {},
     "output_type": "execute_result"
    }
   ],
   "source": [
    "df.head()"
   ]
  },
  {
   "cell_type": "code",
   "execution_count": 18,
   "id": "317748fd-0072-46a9-aee8-1647d213dabc",
   "metadata": {
    "tags": []
   },
   "outputs": [],
   "source": [
    "center = df.iloc[:,0:1].values\n",
    "center_y = df.iloc[:,3:4].values\n",
    "\n",
    "left = df.iloc[:,1:2].values\n",
    "left_y = df.iloc[:,3:4].values + 0.2\n",
    "\n",
    "right = df.iloc[:,2:3].values\n",
    "right_y = df.iloc[:,3:4].values - 0.2"
   ]
  },
  {
   "cell_type": "code",
   "execution_count": 19,
   "id": "32069cc9-b57b-46c2-a660-d3444a234e11",
   "metadata": {
    "tags": []
   },
   "outputs": [],
   "source": [
    "X = np.concatenate((center,left,right),axis = 0)\n",
    "y = np.concatenate((center_y,left_y,right_y),axis = 0)"
   ]
  },
  {
   "cell_type": "code",
   "execution_count": 20,
   "id": "e5529c32-78f1-4fcd-b018-becaaff86a4d",
   "metadata": {
    "tags": []
   },
   "outputs": [
    {
     "data": {
      "text/plain": [
       "(22842, 1)"
      ]
     },
     "execution_count": 20,
     "metadata": {},
     "output_type": "execute_result"
    }
   ],
   "source": [
    "X.shape"
   ]
  },
  {
   "cell_type": "code",
   "execution_count": 30,
   "id": "9fd8b464-a8d8-45a3-b44f-2dc31159182b",
   "metadata": {
    "tags": []
   },
   "outputs": [
    {
     "data": {
      "text/plain": [
       "(22842, 1)"
      ]
     },
     "execution_count": 30,
     "metadata": {},
     "output_type": "execute_result"
    }
   ],
   "source": [
    "y.shape"
   ]
  },
  {
   "cell_type": "code",
   "execution_count": 96,
   "id": "bcbc15c9-8db0-495f-bde4-88b39c89a711",
   "metadata": {
    "tags": []
   },
   "outputs": [
    {
     "name": "stdout",
     "output_type": "stream",
     "text": [
      "[['D:\\\\ARNAV\\\\Jupyter notebook\\\\Autonomus Cars My Codes\\\\AV Simulation\\\\IMG\\\\center_2022_03_13_10_59_55_808.jpg'\n",
      "  0.0]\n",
      " ['D:\\\\ARNAV\\\\Jupyter notebook\\\\Autonomus Cars My Codes\\\\AV Simulation\\\\IMG\\\\center_2022_03_13_10_59_55_908.jpg'\n",
      "  0.0]\n",
      " ['D:\\\\ARNAV\\\\Jupyter notebook\\\\Autonomus Cars My Codes\\\\AV Simulation\\\\IMG\\\\center_2022_03_13_10_59_56_010.jpg'\n",
      "  0.0]\n",
      " ...\n",
      " [' D:\\\\ARNAV\\\\Jupyter notebook\\\\Autonomus Cars My Codes\\\\AV Simulation\\\\IMG\\\\right_2022_03_13_11_15_14_236.jpg'\n",
      "  -0.2]\n",
      " [' D:\\\\ARNAV\\\\Jupyter notebook\\\\Autonomus Cars My Codes\\\\AV Simulation\\\\IMG\\\\right_2022_03_13_11_15_14_338.jpg'\n",
      "  -0.2]\n",
      " [' D:\\\\ARNAV\\\\Jupyter notebook\\\\Autonomus Cars My Codes\\\\AV Simulation\\\\IMG\\\\right_2022_03_13_11_15_14_439.jpg'\n",
      "  -0.2]]\n",
      "\n",
      "\n",
      "<class 'numpy.ndarray'>\n"
     ]
    }
   ],
   "source": [
    "data = np.concatenate((X,y), axis = 1)\n",
    "print(data)\n",
    "print(\"\\n\")\n",
    "print(type(data))"
   ]
  },
  {
   "cell_type": "code",
   "execution_count": 97,
   "id": "5ebdb3e0-1154-4cf6-b5e8-9b7629e22a01",
   "metadata": {
    "tags": []
   },
   "outputs": [
    {
     "data": {
      "text/html": [
       "<div>\n",
       "<style scoped>\n",
       "    .dataframe tbody tr th:only-of-type {\n",
       "        vertical-align: middle;\n",
       "    }\n",
       "\n",
       "    .dataframe tbody tr th {\n",
       "        vertical-align: top;\n",
       "    }\n",
       "\n",
       "    .dataframe thead th {\n",
       "        text-align: right;\n",
       "    }\n",
       "</style>\n",
       "<table border=\"1\" class=\"dataframe\">\n",
       "  <thead>\n",
       "    <tr style=\"text-align: right;\">\n",
       "      <th></th>\n",
       "      <th>Images</th>\n",
       "      <th>Steering</th>\n",
       "    </tr>\n",
       "  </thead>\n",
       "  <tbody>\n",
       "    <tr>\n",
       "      <th>0</th>\n",
       "      <td>D:\\ARNAV\\Jupyter notebook\\Autonomus Cars My Co...</td>\n",
       "      <td>0.0</td>\n",
       "    </tr>\n",
       "    <tr>\n",
       "      <th>1</th>\n",
       "      <td>D:\\ARNAV\\Jupyter notebook\\Autonomus Cars My Co...</td>\n",
       "      <td>0.0</td>\n",
       "    </tr>\n",
       "    <tr>\n",
       "      <th>2</th>\n",
       "      <td>D:\\ARNAV\\Jupyter notebook\\Autonomus Cars My Co...</td>\n",
       "      <td>0.0</td>\n",
       "    </tr>\n",
       "    <tr>\n",
       "      <th>3</th>\n",
       "      <td>D:\\ARNAV\\Jupyter notebook\\Autonomus Cars My Co...</td>\n",
       "      <td>0.0</td>\n",
       "    </tr>\n",
       "    <tr>\n",
       "      <th>4</th>\n",
       "      <td>D:\\ARNAV\\Jupyter notebook\\Autonomus Cars My Co...</td>\n",
       "      <td>0.0</td>\n",
       "    </tr>\n",
       "    <tr>\n",
       "      <th>...</th>\n",
       "      <td>...</td>\n",
       "      <td>...</td>\n",
       "    </tr>\n",
       "    <tr>\n",
       "      <th>22837</th>\n",
       "      <td>D:\\ARNAV\\Jupyter notebook\\Autonomus Cars My C...</td>\n",
       "      <td>-0.2</td>\n",
       "    </tr>\n",
       "    <tr>\n",
       "      <th>22838</th>\n",
       "      <td>D:\\ARNAV\\Jupyter notebook\\Autonomus Cars My C...</td>\n",
       "      <td>-0.2</td>\n",
       "    </tr>\n",
       "    <tr>\n",
       "      <th>22839</th>\n",
       "      <td>D:\\ARNAV\\Jupyter notebook\\Autonomus Cars My C...</td>\n",
       "      <td>-0.2</td>\n",
       "    </tr>\n",
       "    <tr>\n",
       "      <th>22840</th>\n",
       "      <td>D:\\ARNAV\\Jupyter notebook\\Autonomus Cars My C...</td>\n",
       "      <td>-0.2</td>\n",
       "    </tr>\n",
       "    <tr>\n",
       "      <th>22841</th>\n",
       "      <td>D:\\ARNAV\\Jupyter notebook\\Autonomus Cars My C...</td>\n",
       "      <td>-0.2</td>\n",
       "    </tr>\n",
       "  </tbody>\n",
       "</table>\n",
       "<p>22842 rows × 2 columns</p>\n",
       "</div>"
      ],
      "text/plain": [
       "                                                  Images Steering\n",
       "0      D:\\ARNAV\\Jupyter notebook\\Autonomus Cars My Co...      0.0\n",
       "1      D:\\ARNAV\\Jupyter notebook\\Autonomus Cars My Co...      0.0\n",
       "2      D:\\ARNAV\\Jupyter notebook\\Autonomus Cars My Co...      0.0\n",
       "3      D:\\ARNAV\\Jupyter notebook\\Autonomus Cars My Co...      0.0\n",
       "4      D:\\ARNAV\\Jupyter notebook\\Autonomus Cars My Co...      0.0\n",
       "...                                                  ...      ...\n",
       "22837   D:\\ARNAV\\Jupyter notebook\\Autonomus Cars My C...     -0.2\n",
       "22838   D:\\ARNAV\\Jupyter notebook\\Autonomus Cars My C...     -0.2\n",
       "22839   D:\\ARNAV\\Jupyter notebook\\Autonomus Cars My C...     -0.2\n",
       "22840   D:\\ARNAV\\Jupyter notebook\\Autonomus Cars My C...     -0.2\n",
       "22841   D:\\ARNAV\\Jupyter notebook\\Autonomus Cars My C...     -0.2\n",
       "\n",
       "[22842 rows x 2 columns]"
      ]
     },
     "execution_count": 97,
     "metadata": {},
     "output_type": "execute_result"
    }
   ],
   "source": [
    "data = pd.DataFrame(data,columns=[\"Images\",\"Steering\"])\n",
    "data"
   ]
  },
  {
   "cell_type": "code",
   "execution_count": 98,
   "id": "03f89eda-e6b6-459c-bfea-373a4ba5ba26",
   "metadata": {
    "tags": []
   },
   "outputs": [],
   "source": [
    "def balanceData(data,samplesPerBin,display=True):\n",
    "    nBin = 31\n",
    "    hist, bins = np.histogram(data['Steering'], nBin)\n",
    "    if display:\n",
    "        center = (bins[:-1] + bins[1:]) * 0.5\n",
    "        plt.bar(center, hist, width=0.06)\n",
    "        plt.plot((np.min(data['Steering']), np.max(data['Steering'])), (samplesPerBin, samplesPerBin))\n",
    "        plt.show()"
   ]
  },
  {
   "cell_type": "code",
   "execution_count": 100,
   "id": "003e5531-13dd-4c84-9c00-2344cea85065",
   "metadata": {
    "tags": []
   },
   "outputs": [
    {
     "data": {
      "image/png": "[encoded data removed]",
      "text/plain": [
       "<Figure size 640x480 with 1 Axes>"
      ]
     },
     "metadata": {},
     "output_type": "display_data"
    }
   ],
   "source": [
    "balanceData(data,800)"
   ]
  },
  {
   "cell_type": "code",
   "execution_count": 101,
   "id": "cc02eda8-1ef9-41f3-85c6-2c794cad8a59",
   "metadata": {
    "tags": []
   },
   "outputs": [],
   "source": [
    "new_data = data"
   ]
  },
  {
   "cell_type": "code",
   "execution_count": 102,
   "id": "820b663a-b9ed-4c0f-9b60-3ca08d99fc77",
   "metadata": {
    "tags": []
   },
   "outputs": [],
   "source": [
    "def removeData(data,samplesPerBin):\n",
    "    nBin = 31\n",
    "    hist, bins = np.histogram(data['Steering'], nBin)\n",
    "    removeindexList = []\n",
    "    for j in range(nBin):\n",
    "        binDataList = []\n",
    "        for i in range(len(data['Steering'])):\n",
    "            if data['Steering'][i] >= bins[j] and data['Steering'][i] <= bins[j + 1]:\n",
    "                binDataList.append(i)\n",
    "        binDataList = shuffle(binDataList)\n",
    "        binDataList = binDataList[samplesPerBin:]\n",
    "        removeindexList.extend(binDataList)\n",
    "\n",
    "    print('Removed Images:', len(removeindexList))\n",
    "    data.drop(data.index[removeindexList], inplace=True)\n",
    "    print('Remaining Images:', len(data))"
   ]
  },
  {
   "cell_type": "code",
   "execution_count": 103,
   "id": "1dcccb79-c52e-4efd-b4f9-b7be1924dd99",
   "metadata": {
    "tags": []
   },
   "outputs": [
    {
     "name": "stdout",
     "output_type": "stream",
     "text": [
      "Removed Images: 15188\n",
      "Remaining Images: 7654\n"
     ]
    }
   ],
   "source": [
    "removeData(new_data,800)"
   ]
  },
  {
   "cell_type": "code",
   "execution_count": 104,
   "id": "e84be69b-e3ec-4b19-9787-7db9fd9ffb14",
   "metadata": {
    "tags": []
   },
   "outputs": [
    {
     "data": {
      "image/png": "[encoded data removed]",
      "text/plain": [
       "<Figure size 640x480 with 1 Axes>"
      ]
     },
     "metadata": {},
     "output_type": "display_data"
    }
   ],
   "source": [
    "balanceData(new_data,800)"
   ]
  },
  {
   "cell_type": "code",
   "execution_count": null,
   "id": "c3bb3155-0a98-4aa2-b6f0-803040fcddbd",
   "metadata": {},
   "outputs": [],
   "source": []
  },
  {
   "cell_type": "code",
   "execution_count": 106,
   "id": "85c00d4b-2f38-4246-8672-0726f5f0abcb",
   "metadata": {},
   "outputs": [],
   "source": [
    "Steering = new_data['Steering'].values\n",
    "imgs = new_data['Images'].values"
   ]
  },
  {
   "cell_type": "code",
   "execution_count": 107,
   "id": "df228ad1-0364-495f-94a8-b0621e6de355",
   "metadata": {
    "tags": []
   },
   "outputs": [
    {
     "name": "stdout",
     "output_type": "stream",
     "text": [
      "Positive Steering Values:  3262\n",
      "Negative Steering Values:  3699\n",
      "Zeros Steering Values:  693\n"
     ]
    }
   ],
   "source": [
    "positive = 0\n",
    "negative = 0\n",
    "zero = 0\n",
    "\n",
    "\n",
    "for i in Steering:\n",
    "    \n",
    "    if (i > 0):\n",
    "        positive += 1\n",
    "    elif (i < 0):\n",
    "        negative += 1\n",
    "    elif (i == 0):\n",
    "        zero += 1\n",
    "        \n",
    "print('Positive Steering Values: ',positive)\n",
    "print('Negative Steering Values: ',negative)\n",
    "print('Zeros Steering Values: ',zero)"
   ]
  },
  {
   "cell_type": "code",
   "execution_count": null,
   "id": "19f55898-a2a6-4bcc-a792-9212c05216d1",
   "metadata": {},
   "outputs": [],
   "source": []
  },
  {
   "cell_type": "markdown",
   "id": "744dbf08-feaa-41fe-9d32-87e61f16f5a3",
   "metadata": {},
   "source": [
    "### Saving the Dataset as NumPy"
   ]
  },
  {
   "cell_type": "code",
   "execution_count": 110,
   "id": "2492e5a4-5c88-4c92-98f9-21b61f5b18a9",
   "metadata": {
    "tags": []
   },
   "outputs": [],
   "source": [
    "new_data = new_data.values"
   ]
  },
  {
   "cell_type": "code",
   "execution_count": 113,
   "id": "e6bb1c44-f77d-4b0c-a685-1ca2ed771af3",
   "metadata": {
    "tags": []
   },
   "outputs": [],
   "source": [
    "imgs = []\n",
    "steering = []\n",
    "\n",
    "for i in range(len(new_data)):\n",
    "    imgs.append(new_data[i][0].lstrip())\n",
    "    steering.append(new_data[i][1])"
   ]
  },
  {
   "cell_type": "code",
   "execution_count": 114,
   "id": "14853c3e-87e3-4560-8e5b-5475ef6555bc",
   "metadata": {
    "tags": []
   },
   "outputs": [
    {
     "data": {
      "text/plain": [
       "array([['D:\\\\ARNAV\\\\Jupyter notebook\\\\Autonomus Cars My Codes\\\\AV Simulation\\\\IMG\\\\center_2022_03_13_10_59_57_034.jpg',\n",
       "        'D:\\\\ARNAV\\\\Jupyter notebook\\\\Autonomus Cars My Codes\\\\AV Simulation\\\\IMG\\\\center_2022_03_13_10_59_57_139.jpg',\n",
       "        'D:\\\\ARNAV\\\\Jupyter notebook\\\\Autonomus Cars My Codes\\\\AV Simulation\\\\IMG\\\\center_2022_03_13_10_59_57_447.jpg',\n",
       "        ...,\n",
       "        'D:\\\\ARNAV\\\\Jupyter notebook\\\\Autonomus Cars My Codes\\\\AV Simulation\\\\IMG\\\\right_2022_03_13_11_15_12_563.jpg',\n",
       "        'D:\\\\ARNAV\\\\Jupyter notebook\\\\Autonomus Cars My Codes\\\\AV Simulation\\\\IMG\\\\right_2022_03_13_11_15_12_879.jpg',\n",
       "        'D:\\\\ARNAV\\\\Jupyter notebook\\\\Autonomus Cars My Codes\\\\AV Simulation\\\\IMG\\\\right_2022_03_13_11_15_14_136.jpg'],\n",
       "       ['-0.2803755', '-0.04787249', '-0.01542867', ...,\n",
       "        '-0.43437800000000004', '-0.2', '-0.2']], dtype='<U102')"
      ]
     },
     "execution_count": 114,
     "metadata": {},
     "output_type": "execute_result"
    }
   ],
   "source": [
    "final_data = [imgs, steering]\n",
    "final_data = np.array(final_data)\n",
    "final_data"
   ]
  },
  {
   "cell_type": "code",
   "execution_count": 115,
   "id": "f9db3326-1a29-447c-b9e4-6eba7b67efb7",
   "metadata": {
    "tags": []
   },
   "outputs": [],
   "source": [
    "np.save(\"Preprocessed_Balanced_data\", final_data)"
   ]
  },
  {
   "cell_type": "code",
   "execution_count": null,
   "id": "7a1c8d29-d26d-4a9c-ad3c-ccafd23e660b",
   "metadata": {},
   "outputs": [],
   "source": []
  }
 ],
 "metadata": {
  "kernelspec": {
   "display_name": "Python 3 (ipykernel)",
   "language": "python",
   "name": "python3"
  },
  "language_info": {
   "codemirror_mode": {
    "name": "ipython",
    "version": 3
   },
   "file_extension": ".py",
   "mimetype": "text/x-python",
   "name": "python",
   "nbconvert_exporter": "python",
   "pygments_lexer": "ipython3",
   "version": "3.8.10"
  }
 },
 "nbformat": 4,
 "nbformat_minor": 5
}
