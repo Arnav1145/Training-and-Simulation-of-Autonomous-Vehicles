{
 "cells": [
  {
   "cell_type": "code",
   "execution_count": 1,
   "id": "51cc7518",
   "metadata": {
    "tags": []
   },
   "outputs": [],
   "source": [
    "import cv2 as cv\n",
    "import numpy as np\n",
    "\n",
    "import matplotlib.pyplot as plt\n",
    "\n",
    "from sklearn.model_selection import train_test_split\n",
    "from keras.models import Sequential, load_model\n",
    "from keras.layers import Convolution2D,Flatten,Dense\n",
    "from keras.callbacks import EarlyStopping, ModelCheckpoint"
   ]
  },
  {
   "cell_type": "code",
   "execution_count": 2,
   "id": "b9e473e5",
   "metadata": {
    "tags": []
   },
   "outputs": [],
   "source": [
    "data = np.load('Preprocessed_data.npy')\n",
    "imgs = data[0]\n",
    "steering = data[1]\n",
    "\n",
    "#splitting the dataset into train and test\n",
    "X_train, X_test, y_train, y_test = train_test_split(imgs, steering, test_size= 0.2)"
   ]
  },
  {
   "cell_type": "code",
   "execution_count": 3,
   "id": "5bcd819d",
   "metadata": {
    "tags": []
   },
   "outputs": [
    {
     "name": "stdout",
     "output_type": "stream",
     "text": [
      "(18271,)\n",
      "(4568,)\n",
      "(18271,)\n",
      "(4568,)\n"
     ]
    }
   ],
   "source": [
    "print(X_train.shape)\n",
    "print(X_test.shape)\n",
    "\n",
    "print(y_train.shape)\n",
    "print(y_test.shape)"
   ]
  },
  {
   "cell_type": "markdown",
   "id": "18fd6a52",
   "metadata": {},
   "source": [
    "### Image Processing, Batch generator and Image Augmentation"
   ]
  },
  {
   "cell_type": "code",
   "execution_count": 37,
   "id": "fda5f0d6",
   "metadata": {
    "tags": []
   },
   "outputs": [],
   "source": [
    "#refer to Image Processing notebook for more details\n",
    "#about this cell\n",
    "\n",
    "#Now combining the brigtness control and\n",
    "#image fliping in one function\n",
    "#this function of augmentation is also going to\n",
    "#be a batch generator\n",
    "\n",
    "def batch_generator(imgs,steering,batch_size):\n",
    "    \n",
    "    #infinite loop\n",
    "    while True:\n",
    "        \n",
    "        X=[]\n",
    "        y=[]\n",
    "        \n",
    "        #running the whole process for each batch of images\n",
    "        for i in range(batch_size):\n",
    "        \n",
    "            #getting random image index from imgs\n",
    "            index = np.random.randint(0,len(imgs)-1)\n",
    "            #passing and reading the random image index\n",
    "            img = cv.imread(imgs[index])\n",
    "            \n",
    "            #converting the image to yuv as discussed above\n",
    "            # img = cv.cvtColor(img, cv.COLOR_BGR2YUV)\n",
    "            #or img = bgr2yuv(img)\n",
    "            \n",
    "            #cropping image as discussed above\n",
    "            img = img[60:135,:,:]\n",
    "            #or img = crop_img(img)\n",
    "            \n",
    "            #adjusting for the model's first layer  with size (66,200,3) as input\n",
    "            img = cv.resize(img, (200,66))\n",
    "            \n",
    "            #instead of going for each image brigntness control\n",
    "            #we will go for only random images\n",
    "            if (np.random.rand()>0.5):\n",
    "                #brightness control\n",
    "                brigtness_cont = np.random.randint(1,4)\n",
    "                img = (img/ brigtness_cont).astype(np.uint8)\n",
    "\n",
    "            #similarly for fliping the image\n",
    "            # if (np.random.rand()>0.5):\n",
    "            #     #image fliping\n",
    "            #     img = cv.flip(img,1)\n",
    "            #     steering_angle = -float(steering[index])\n",
    "            # else:\n",
    "            #     steering_angle = float(steering[index])\n",
    "\n",
    "            X.append(img)\n",
    "            # y.append(steering_angle)\n",
    "            y.append(float(steering[index]))\n",
    "        \n",
    "        #converting the image \n",
    "        # and steering_angle processed into the numpy array\n",
    "        X = np.array(X)\n",
    "        y = np.array(y)\n",
    "        \n",
    "        \n",
    "        #Yield is a keyword in Python that is used to return from a function \n",
    "        #without destroying the states of its local variable and\n",
    "        #when the function is called, the execution starts from the last yield statement. \n",
    "        #Any function that contains a yield keyword is termed a generator. \n",
    "        #Hence, yield is what makes a generator. \n",
    "        yield X,y"
   ]
  },
  {
   "cell_type": "code",
   "execution_count": 38,
   "id": "231bcda8",
   "metadata": {
    "tags": []
   },
   "outputs": [],
   "source": [
    "model = Sequential()\n",
    "\n",
    "model.add(Convolution2D(24, (5,5), strides = (2,2), input_shape = (66,200,3), activation = 'elu'))\n",
    "model.add(Convolution2D(36, (5,5), strides =(2,2), activation = 'elu'))\n",
    "model.add(Convolution2D(48, (5,5), strides =(2,2), activation = 'elu'))\n",
    "\n",
    "model.add(Convolution2D(64, (5,5), activation = 'elu'))\n",
    "model.add(Convolution2D(64, (3,3), activation = 'elu'))\n",
    "\n",
    "model.add(Dropout(0.5))\n",
    "model.add(Flatten())\n",
    "\n",
    "model.add(Dense(100, activation = 'elu'))\n",
    "model.add(Dense(50, activation = 'elu'))\n",
    "model.add(Dense(10, activation = 'elu'))\n",
    "model.add(Dense(1, activation = 'elu'))\n",
    "\n",
    "model.compile(optimizer = 'adam', loss = 'mse', metrics = ['accuracy'])"
   ]
  },
  {
   "cell_type": "code",
   "execution_count": 39,
   "id": "bbaa653f",
   "metadata": {
    "tags": []
   },
   "outputs": [
    {
     "name": "stdout",
     "output_type": "stream",
     "text": [
      "Model: \"sequential_3\"\n",
      "_________________________________________________________________\n",
      " Layer (type)                Output Shape              Param #   \n",
      "=================================================================\n",
      " conv2d_15 (Conv2D)          (None, 31, 98, 24)        1824      \n",
      "                                                                 \n",
      " conv2d_16 (Conv2D)          (None, 14, 47, 36)        21636     \n",
      "                                                                 \n",
      " conv2d_17 (Conv2D)          (None, 5, 22, 48)         43248     \n",
      "                                                                 \n",
      " conv2d_18 (Conv2D)          (None, 3, 20, 64)         27712     \n",
      "                                                                 \n",
      " conv2d_19 (Conv2D)          (None, 1, 18, 64)         36928     \n",
      "                                                                 \n",
      " flatten_3 (Flatten)         (None, 1152)              0         \n",
      "                                                                 \n",
      " dense_15 (Dense)            (None, 100)               115300    \n",
      "                                                                 \n",
      " dense_16 (Dense)            (None, 50)                5050      \n",
      "                                                                 \n",
      " dense_17 (Dense)            (None, 10)                510       \n",
      "                                                                 \n",
      " dense_18 (Dense)            (None, 1)                 11        \n",
      "                                                                 \n",
      " dense_19 (Dense)            (None, 1)                 2         \n",
      "                                                                 \n",
      "=================================================================\n",
      "Total params: 252,221\n",
      "Trainable params: 252,221\n",
      "Non-trainable params: 0\n",
      "_________________________________________________________________\n"
     ]
    }
   ],
   "source": [
    "model.summary()"
   ]
  },
  {
   "cell_type": "code",
   "execution_count": 40,
   "id": "06d42a46",
   "metadata": {
    "tags": []
   },
   "outputs": [],
   "source": [
    "# es = EarlyStopping(monitor='val_loss', mode='min', verbose=1, patience=10, min_delta=0.0001) \n",
    "mc = ModelCheckpoint('min_loss_model_50.h5', monitor='val_loss', verbose=0, save_best_only=True, mode='auto')"
   ]
  },
  {
   "cell_type": "code",
   "execution_count": null,
   "id": "89ad9f0c-6592-4d87-8aab-9f22a5944b8c",
   "metadata": {},
   "outputs": [],
   "source": [
    "model.compile(loss = \"mean_squared_error\", optimizer = Adam(lr = ))"
   ]
  },
  {
   "cell_type": "code",
   "execution_count": 41,
   "id": "71da2680",
   "metadata": {
    "tags": []
   },
   "outputs": [
    {
     "name": "stdout",
     "output_type": "stream",
     "text": [
      "Epoch 1/50\n",
      "1999/2000 [============================>.] - ETA: 0s - loss: 0.3169 - accuracy: 0.1588\n",
      "Epoch 1: val_loss improved from inf to 0.04065, saving model to min_loss_model_50.h5\n",
      "2000/2000 [==============================] - 543s 270ms/step - loss: 0.3168 - accuracy: 0.1588 - val_loss: 0.0406 - val_accuracy: 0.2262\n",
      "Epoch 2/50\n",
      "1999/2000 [============================>.] - ETA: 0s - loss: 0.0410 - accuracy: 0.2261\n",
      "Epoch 2: val_loss did not improve from 0.04065\n",
      "2000/2000 [==============================] - 108s 54ms/step - loss: 0.0410 - accuracy: 0.2261 - val_loss: 0.0407 - val_accuracy: 0.2163\n",
      "Epoch 3/50\n",
      "2000/2000 [==============================] - ETA: 0s - loss: 0.0408 - accuracy: 0.2290\n",
      "Epoch 3: val_loss improved from 0.04065 to 0.03914, saving model to min_loss_model_50.h5\n",
      "2000/2000 [==============================] - 105s 53ms/step - loss: 0.0408 - accuracy: 0.2290 - val_loss: 0.0391 - val_accuracy: 0.2266\n",
      "Epoch 4/50\n",
      "1999/2000 [============================>.] - ETA: 0s - loss: 0.0411 - accuracy: 0.2276\n",
      "Epoch 4: val_loss did not improve from 0.03914\n",
      "2000/2000 [==============================] - 104s 52ms/step - loss: 0.0411 - accuracy: 0.2276 - val_loss: 0.0393 - val_accuracy: 0.2238\n",
      "Epoch 5/50\n",
      "2000/2000 [==============================] - ETA: 0s - loss: 0.0410 - accuracy: 0.2267\n",
      "Epoch 5: val_loss did not improve from 0.03914\n",
      "2000/2000 [==============================] - 104s 52ms/step - loss: 0.0410 - accuracy: 0.2267 - val_loss: 0.0410 - val_accuracy: 0.2163\n",
      "Epoch 6/50\n",
      "1999/2000 [============================>.] - ETA: 0s - loss: 0.0409 - accuracy: 0.2280\n",
      "Epoch 6: val_loss did not improve from 0.03914\n",
      "2000/2000 [==============================] - 105s 53ms/step - loss: 0.0409 - accuracy: 0.2280 - val_loss: 0.0402 - val_accuracy: 0.2241\n",
      "Epoch 7/50\n",
      "2000/2000 [==============================] - ETA: 0s - loss: 0.0409 - accuracy: 0.2296\n",
      "Epoch 7: val_loss did not improve from 0.03914\n",
      "2000/2000 [==============================] - 104s 52ms/step - loss: 0.0409 - accuracy: 0.2296 - val_loss: 0.0400 - val_accuracy: 0.2207\n",
      "Epoch 8/50\n",
      "2000/2000 [==============================] - ETA: 0s - loss: 0.0412 - accuracy: 0.2283\n",
      "Epoch 8: val_loss did not improve from 0.03914\n",
      "2000/2000 [==============================] - 105s 52ms/step - loss: 0.0412 - accuracy: 0.2283 - val_loss: 0.0411 - val_accuracy: 0.2253\n",
      "Epoch 9/50\n",
      "1999/2000 [============================>.] - ETA: 0s - loss: 0.0414 - accuracy: 0.2288\n",
      "Epoch 9: val_loss did not improve from 0.03914\n",
      "2000/2000 [==============================] - 105s 52ms/step - loss: 0.0414 - accuracy: 0.2288 - val_loss: 0.0396 - val_accuracy: 0.2185\n",
      "Epoch 10/50\n",
      "2000/2000 [==============================] - ETA: 0s - loss: 0.0413 - accuracy: 0.2288\n",
      "Epoch 10: val_loss did not improve from 0.03914\n",
      "2000/2000 [==============================] - 104s 52ms/step - loss: 0.0413 - accuracy: 0.2288 - val_loss: 0.0405 - val_accuracy: 0.2192\n",
      "Epoch 11/50\n",
      "2000/2000 [==============================] - ETA: 0s - loss: 0.0409 - accuracy: 0.2289\n",
      "Epoch 11: val_loss did not improve from 0.03914\n",
      "2000/2000 [==============================] - 104s 52ms/step - loss: 0.0409 - accuracy: 0.2289 - val_loss: 0.0398 - val_accuracy: 0.2266\n",
      "Epoch 12/50\n",
      "2000/2000 [==============================] - ETA: 0s - loss: 0.0410 - accuracy: 0.2257\n",
      "Epoch 12: val_loss did not improve from 0.03914\n",
      "2000/2000 [==============================] - 105s 52ms/step - loss: 0.0410 - accuracy: 0.2257 - val_loss: 0.0406 - val_accuracy: 0.2237\n",
      "Epoch 13/50\n",
      "1999/2000 [============================>.] - ETA: 0s - loss: 0.0411 - accuracy: 0.2290\n",
      "Epoch 13: val_loss did not improve from 0.03914\n",
      "2000/2000 [==============================] - 105s 52ms/step - loss: 0.0411 - accuracy: 0.2290 - val_loss: 0.0406 - val_accuracy: 0.2187\n",
      "Epoch 13: early stopping\n"
     ]
    }
   ],
   "source": [
    "#taking len(X_train)//64 = 36 images for steps for each epoch \n",
    "history = model.fit(batch_generator(X_train,y_train,64), steps_per_epoch = 2000, epochs = 50, callbacks = [es,mc],\n",
    "                    validation_data = batch_generator(X_test,y_test,64), validation_steps = 200)"
   ]
  },
  {
   "cell_type": "code",
   "execution_count": 29,
   "id": "753875a2",
   "metadata": {
    "tags": []
   },
   "outputs": [
    {
     "name": "stdout",
     "output_type": "stream",
     "text": [
      "The validation accuracy is : [0.2232031226158142, 0.2109375, 0.22093750536441803, 0.2185937464237213, 0.22132812440395355, 0.21968750655651093, 0.22624999284744263, 0.22304686903953552, 0.22289063036441803, 0.22187499701976776, 0.22273437678813934, 0.22203125059604645, 0.22414062917232513, 0.21968750655651093, 0.21687500178813934, 0.2160937488079071, 0.2219531238079071, 0.21257811784744263]\n",
      "The training accuracy is : [0.22560937702655792, 0.22735156118869781, 0.22939062118530273, 0.22846874594688416, 0.22957031428813934, 0.22865624725818634, 0.22835156321525574, 0.22724218666553497, 0.2271406203508377, 0.2272343784570694, 0.22688281536102295, 0.22697655856609344, 0.22925780713558197, 0.22975781559944153, 0.22977343201637268, 0.22778905928134918, 0.22810937464237213, 0.22951562702655792]\n",
      "The validation loss is : [0.03956609591841698, 0.04136066138744354, 0.040231868624687195, 0.04072697088122368, 0.040634457021951675, 0.040267787873744965, 0.039967332035303116, 0.039150308817625046, 0.039161697030067444, 0.04043480008840561, 0.04005107283592224, 0.04076741263270378, 0.03988850489258766, 0.04064466804265976, 0.04039023816585541, 0.04075436666607857, 0.040277544409036636, 0.04066237434744835]\n",
      "The training loss is : [0.04095018282532692, 0.04125288501381874, 0.04089565947651863, 0.04093293845653534, 0.040985897183418274, 0.040821854025125504, 0.04114590957760811, 0.041028380393981934, 0.04121037572622299, 0.04140074551105499, 0.04117044061422348, 0.04118836298584938, 0.041115567088127136, 0.040987513959407806, 0.0411359965801239, 0.041149552911520004, 0.04091287776827812, 0.04106806963682175]\n"
     ]
    }
   ],
   "source": [
    "print(\"The validation accuracy is :\", history.history['val_accuracy'])\n",
    "print(\"The training accuracy is :\", history.history['accuracy'])\n",
    "print(\"The validation loss is :\", history.history['val_loss'])\n",
    "print(\"The training loss is :\", history.history['loss'])"
   ]
  },
  {
   "cell_type": "code",
   "execution_count": 30,
   "id": "f74c609e",
   "metadata": {
    "tags": []
   },
   "outputs": [
    {
     "data": {
      "image/png": "[encoded data removed]",
      "text/plain": [
       "<Figure size 432x432 with 1 Axes>"
      ]
     },
     "metadata": {
      "needs_background": "light"
     },
     "output_type": "display_data"
    }
   ],
   "source": [
    "plt.figure(figsize = (6,6))\n",
    "plt.plot(history.history['loss'], label='train')\n",
    "plt.plot(history.history['val_loss'], label='test')\n",
    "plt.legend()\n",
    "plt.title(\"Model Loss\")\n",
    "plt.show()"
   ]
  },
  {
   "cell_type": "code",
   "execution_count": 31,
   "id": "60704dac",
   "metadata": {
    "tags": []
   },
   "outputs": [
    {
     "data": {
      "image/png": "[encoded data removed]",
      "text/plain": [
       "<Figure size 432x432 with 1 Axes>"
      ]
     },
     "metadata": {
      "needs_background": "light"
     },
     "output_type": "display_data"
    }
   ],
   "source": [
    "plt.figure(figsize = (6,6))\n",
    "plt.plot(history.history['accuracy'], label='train')\n",
    "plt.plot(history.history['val_accuracy'], label='test')\n",
    "plt.legend()\n",
    "plt.title(\"Model Accuracy\")\n",
    "plt.show()"
   ]
  },
  {
   "cell_type": "code",
   "execution_count": 21,
   "id": "7ea44f6c",
   "metadata": {},
   "outputs": [
    {
     "data": {
      "image/png": "[encoded data removed]",
      "text/plain": [
       "<Figure size 432x288 with 1 Axes>"
      ]
     },
     "metadata": {
      "needs_background": "light"
     },
     "output_type": "display_data"
    }
   ],
   "source": [
    "plt.plot(history.history['loss'])\n",
    "\n",
    "plt.ylabel(\"Loss\")\n",
    "plt.xlabel(\"Epoch\")\n",
    "\n",
    "plt.show()"
   ]
  },
  {
   "cell_type": "code",
   "execution_count": 22,
   "id": "1e216577",
   "metadata": {},
   "outputs": [
    {
     "data": {
      "image/png": "[encoded data removed]",
      "text/plain": [
       "<Figure size 432x288 with 1 Axes>"
      ]
     },
     "metadata": {
      "needs_background": "light"
     },
     "output_type": "display_data"
    }
   ],
   "source": [
    "plt.plot(history.history['val_loss'])\n",
    "\n",
    "plt.ylabel(\"Loss\")\n",
    "plt.xlabel(\"Epoch\")\n",
    "\n",
    "plt.show()"
   ]
  },
  {
   "cell_type": "code",
   "execution_count": 23,
   "id": "09acccab",
   "metadata": {},
   "outputs": [],
   "source": [
    "model.save('Model.h5')"
   ]
  },
  {
   "cell_type": "code",
   "execution_count": null,
   "id": "3e73e982",
   "metadata": {},
   "outputs": [],
   "source": []
  }
 ],
 "metadata": {
  "kernelspec": {
   "display_name": "Python 3 (ipykernel)",
   "language": "python",
   "name": "python3"
  },
  "language_info": {
   "codemirror_mode": {
    "name": "ipython",
    "version": 3
   },
   "file_extension": ".py",
   "mimetype": "text/x-python",
   "name": "python",
   "nbconvert_exporter": "python",
   "pygments_lexer": "ipython3",
   "version": "3.8.10"
  }
 },
 "nbformat": 4,
 "nbformat_minor": 5
}
