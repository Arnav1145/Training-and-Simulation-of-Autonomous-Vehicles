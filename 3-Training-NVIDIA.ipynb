{
 "cells": [
  {
   "cell_type": "code",
   "execution_count": 13,
   "id": "51cc7518",
   "metadata": {
    "tags": []
   },
   "outputs": [],
   "source": [
    "import cv2 as cv\n",
    "import numpy as np\n",
    "\n",
    "import matplotlib.pyplot as plt\n",
    "\n",
    "from keras.optimizers import Adam\n",
    "\n",
    "from sklearn.model_selection import train_test_split\n",
    "from keras.models import Sequential, load_model\n",
    "from keras.layers import Convolution2D,Flatten,Dense,Dropout,MaxPooling2D,Lambda\n",
    "from keras.callbacks import EarlyStopping, ModelCheckpoint"
   ]
  },
  {
   "cell_type": "code",
   "execution_count": 2,
   "id": "b9e473e5",
   "metadata": {
    "tags": []
   },
   "outputs": [],
   "source": [
    "data = np.load('Preprocessed_data.npy')\n",
    "imgs = data[0]\n",
    "steering = data[1]\n",
    "\n",
    "#splitting the dataset into train and test\n",
    "X_train, X_test, y_train, y_test = train_test_split(imgs, steering, test_size= 0.2)"
   ]
  },
  {
   "cell_type": "code",
   "execution_count": 3,
   "id": "5bcd819d",
   "metadata": {
    "tags": []
   },
   "outputs": [
    {
     "name": "stdout",
     "output_type": "stream",
     "text": [
      "(18271,)\n",
      "(4568,)\n",
      "(18271,)\n",
      "(4568,)\n"
     ]
    }
   ],
   "source": [
    "print(X_train.shape)\n",
    "print(X_test.shape)\n",
    "\n",
    "print(y_train.shape)\n",
    "print(y_test.shape)"
   ]
  },
  {
   "cell_type": "markdown",
   "id": "18fd6a52",
   "metadata": {},
   "source": [
    "### Image Processing, Batch generator and Image Augmentation"
   ]
  },
  {
   "cell_type": "code",
   "execution_count": 4,
   "id": "fda5f0d6",
   "metadata": {
    "tags": []
   },
   "outputs": [],
   "source": [
    "#refer to Image Processing notebook for more details\n",
    "#about this cell\n",
    "\n",
    "#Now combining the brigtness control and\n",
    "#image fliping in one function\n",
    "#this function of augmentation is also going to\n",
    "#be a batch generator\n",
    "\n",
    "def batch_generator(imgs,steering,batch_size):\n",
    "    \n",
    "    #infinite loop\n",
    "    while True:\n",
    "        \n",
    "        X=[]\n",
    "        y=[]\n",
    "        \n",
    "        #running the whole process for each batch of images\n",
    "        for i in range(batch_size):\n",
    "        \n",
    "            #getting random image index from imgs\n",
    "            index = np.random.randint(0,len(imgs)-1)\n",
    "            #passing and reading the random image index\n",
    "            img = cv.imread(imgs[index])\n",
    "            \n",
    "            #converting the image to yuv as discussed above\n",
    "            img = cv.cvtColor(img, cv.COLOR_BGR2YUV)\n",
    "            #or img = bgr2yuv(img)\n",
    "            \n",
    "            #cropping image as discussed above\n",
    "            img = img[60:135,:,:]\n",
    "            #or img = crop_img(img)\n",
    "            \n",
    "            #adjusting for the model's first layer  with size (66,200,3) as input\n",
    "            img = cv.resize(img, (200,66))\n",
    "            \n",
    "            #instead of going for each image brigntness control\n",
    "            #we will go for only random images\n",
    "            if (np.random.rand()>0.5):\n",
    "                #brightness control\n",
    "                brigtness_cont = np.random.randint(1,4)\n",
    "                img = (img/ brigtness_cont).astype(np.uint8)\n",
    "\n",
    "            #similarly for fliping the image\n",
    "            if (np.random.rand()>0.5):\n",
    "                #image fliping\n",
    "                img = cv.flip(img,1)\n",
    "                steering_angle = -float(steering[index])\n",
    "            else:\n",
    "                steering_angle = float(steering[index])\n",
    "\n",
    "            X.append(img)\n",
    "            # y.append(steering_angle)\n",
    "            y.append(float(steering[index]))\n",
    "        \n",
    "        #converting the image \n",
    "        # and steering_angle processed into the numpy array\n",
    "        X = np.array(X)\n",
    "        y = np.array(y)\n",
    "        \n",
    "        \n",
    "        #Yield is a keyword in Python that is used to return from a function \n",
    "        #without destroying the states of its local variable and\n",
    "        #when the function is called, the execution starts from the last yield statement. \n",
    "        #Any function that contains a yield keyword is termed a generator. \n",
    "        #Hence, yield is what makes a generator. \n",
    "        yield X,y"
   ]
  },
  {
   "cell_type": "code",
   "execution_count": 4,
   "id": "9fe9687d-2e22-40b9-bcbd-65d261ece3a5",
   "metadata": {
    "tags": []
   },
   "outputs": [],
   "source": [
    "def batch_generator(imgs,steering,batch_size):\n",
    "    \n",
    "    while True:\n",
    "        \n",
    "        X=[]\n",
    "        y=[]\n",
    "        \n",
    "        for i in range(batch_size):\n",
    "        \n",
    "            index = np.random.randint(0,len(imgs)-1)\n",
    "            img = cv.imread(imgs[index])\n",
    "            \n",
    "            img = cv.cvtColor(img, cv.COLOR_BGR2YUV)\n",
    "            \n",
    "            img = img[60:135,:,:]\n",
    "            \n",
    "            img = cv.resize(img, (200,66))\n",
    "\n",
    "            if (np.random.rand()>0.5):\n",
    "                brigtness_cont = np.random.randint(1,4)\n",
    "                img = (img/ brigtness_cont).astype(np.uint8)\n",
    "\n",
    "            if (np.random.rand()>0.5):\n",
    "                img = cv.flip(img,1)\n",
    "                steering_angle = -float(steering[index])\n",
    "            else:\n",
    "                steering_angle = float(steering[index])\n",
    "\n",
    "            X.append(img)\n",
    "            y.append(float(steering[index]))\n",
    "        \n",
    "        X = np.array(X)\n",
    "        y = np.array(y)\n",
    "        \n",
    "        yield X,y"
   ]
  },
  {
   "cell_type": "code",
   "execution_count": 15,
   "id": "231bcda8",
   "metadata": {
    "tags": []
   },
   "outputs": [],
   "source": [
    "model = Sequential()\n",
    "\n",
    "model.add(Lambda(lambda x : x/127.5 - 1.0, input_shape=(66,200,3)))\n",
    "model.add(Convolution2D(24, (5,5), strides = (2,2), activation = 'elu'))\n",
    "model.add(Convolution2D(36, (5,5), strides =(2,2), activation = 'elu'))\n",
    "model.add(Convolution2D(48, (5,5), strides =(2,2), activation = 'elu'))\n",
    "\n",
    "model.add(Convolution2D(64, (3,3), activation = 'elu'))\n",
    "model.add(Convolution2D(64, (3,3), activation = 'elu'))\n",
    "\n",
    "model.add(Dropout(0.5))\n",
    "model.add(Flatten())\n",
    "\n",
    "model.add(Dense(100, activation = 'elu'))\n",
    "model.add(Dense(50, activation = 'elu'))\n",
    "model.add(Dense(10, activation = 'elu'))\n",
    "model.add(Dense(1, activation = 'elu'))\n",
    "\n",
    "model.compile(optimizer = Adam(learning_rate = 0.0001), loss = 'mse')"
   ]
  },
  {
   "cell_type": "code",
   "execution_count": 16,
   "id": "bbaa653f",
   "metadata": {
    "tags": []
   },
   "outputs": [
    {
     "name": "stdout",
     "output_type": "stream",
     "text": [
      "Model: \"sequential_8\"\n",
      "_________________________________________________________________\n",
      " Layer (type)                Output Shape              Param #   \n",
      "=================================================================\n",
      " lambda_3 (Lambda)           (None, 66, 200, 3)        0         \n",
      "                                                                 \n",
      " conv2d_20 (Conv2D)          (None, 31, 98, 24)        1824      \n",
      "                                                                 \n",
      " conv2d_21 (Conv2D)          (None, 14, 47, 36)        21636     \n",
      "                                                                 \n",
      " conv2d_22 (Conv2D)          (None, 5, 22, 48)         43248     \n",
      "                                                                 \n",
      " conv2d_23 (Conv2D)          (None, 3, 20, 64)         27712     \n",
      "                                                                 \n",
      " conv2d_24 (Conv2D)          (None, 1, 18, 64)         36928     \n",
      "                                                                 \n",
      " dropout_2 (Dropout)         (None, 1, 18, 64)         0         \n",
      "                                                                 \n",
      " flatten_2 (Flatten)         (None, 1152)              0         \n",
      "                                                                 \n",
      " dense_8 (Dense)             (None, 100)               115300    \n",
      "                                                                 \n",
      " dense_9 (Dense)             (None, 50)                5050      \n",
      "                                                                 \n",
      " dense_10 (Dense)            (None, 10)                510       \n",
      "                                                                 \n",
      " dense_11 (Dense)            (None, 1)                 11        \n",
      "                                                                 \n",
      "=================================================================\n",
      "Total params: 252,219\n",
      "Trainable params: 252,219\n",
      "Non-trainable params: 0\n",
      "_________________________________________________________________\n"
     ]
    }
   ],
   "source": [
    "model.summary()"
   ]
  },
  {
   "cell_type": "code",
   "execution_count": 17,
   "id": "06d42a46",
   "metadata": {
    "tags": []
   },
   "outputs": [],
   "source": [
    "# es = EarlyStopping(monitor='val_loss', mode='min', verbose=1, patience=10, min_delta=0.0001) \n",
    "mc = ModelCheckpoint('min_loss_model_50.h5', monitor='val_loss', verbose=0, save_best_only=True, mode='auto')"
   ]
  },
  {
   "cell_type": "code",
   "execution_count": 24,
   "id": "71da2680",
   "metadata": {
    "tags": []
   },
   "outputs": [
    {
     "name": "stdout",
     "output_type": "stream",
     "text": [
      "Epoch 1/50\n",
      "300/300 [==============================] - 441s 1s/step - loss: 0.0433 - val_loss: 0.0334\n",
      "Epoch 2/50\n",
      "300/300 [==============================] - 139s 465ms/step - loss: 0.0359 - val_loss: 0.0326\n",
      "Epoch 3/50\n",
      "300/300 [==============================] - 58s 195ms/step - loss: 0.0327 - val_loss: 0.0308\n",
      "Epoch 4/50\n",
      "300/300 [==============================] - 37s 122ms/step - loss: 0.0312 - val_loss: 0.0285\n",
      "Epoch 5/50\n",
      "300/300 [==============================] - 28s 94ms/step - loss: 0.0302 - val_loss: 0.0287\n",
      "Epoch 6/50\n",
      "300/300 [==============================] - 26s 87ms/step - loss: 0.0289 - val_loss: 0.0272\n",
      "Epoch 7/50\n",
      "300/300 [==============================] - 28s 92ms/step - loss: 0.0275 - val_loss: 0.0265\n",
      "Epoch 8/50\n",
      "300/300 [==============================] - 26s 88ms/step - loss: 0.0266 - val_loss: 0.0271\n",
      "Epoch 9/50\n",
      "300/300 [==============================] - 26s 85ms/step - loss: 0.0269 - val_loss: 0.0259\n",
      "Epoch 10/50\n",
      "300/300 [==============================] - 25s 84ms/step - loss: 0.0263 - val_loss: 0.0250\n",
      "Epoch 11/50\n",
      "300/300 [==============================] - 25s 84ms/step - loss: 0.0259 - val_loss: 0.0255\n",
      "Epoch 12/50\n",
      "300/300 [==============================] - 24s 80ms/step - loss: 0.0244 - val_loss: 0.0244\n",
      "Epoch 13/50\n",
      "300/300 [==============================] - 27s 90ms/step - loss: 0.0243 - val_loss: 0.0248\n",
      "Epoch 14/50\n",
      "300/300 [==============================] - 27s 89ms/step - loss: 0.0245 - val_loss: 0.0242\n",
      "Epoch 15/50\n",
      "300/300 [==============================] - 28s 94ms/step - loss: 0.0240 - val_loss: 0.0247\n",
      "Epoch 16/50\n",
      "300/300 [==============================] - 110s 367ms/step - loss: 0.0238 - val_loss: 0.0245\n",
      "Epoch 17/50\n",
      "300/300 [==============================] - 115s 385ms/step - loss: 0.0234 - val_loss: 0.0238\n",
      "Epoch 18/50\n",
      "300/300 [==============================] - 62s 207ms/step - loss: 0.0226 - val_loss: 0.0243\n",
      "Epoch 19/50\n",
      "300/300 [==============================] - 37s 125ms/step - loss: 0.0227 - val_loss: 0.0241\n",
      "Epoch 20/50\n",
      "300/300 [==============================] - 30s 99ms/step - loss: 0.0219 - val_loss: 0.0235\n",
      "Epoch 21/50\n",
      "300/300 [==============================] - 29s 97ms/step - loss: 0.0220 - val_loss: 0.0235\n",
      "Epoch 22/50\n",
      "300/300 [==============================] - 27s 89ms/step - loss: 0.0218 - val_loss: 0.0234\n",
      "Epoch 23/50\n",
      "300/300 [==============================] - 27s 91ms/step - loss: 0.0214 - val_loss: 0.0226\n",
      "Epoch 24/50\n",
      "300/300 [==============================] - 27s 89ms/step - loss: 0.0210 - val_loss: 0.0224\n",
      "Epoch 25/50\n",
      "300/300 [==============================] - 27s 89ms/step - loss: 0.0208 - val_loss: 0.0221\n",
      "Epoch 26/50\n",
      "300/300 [==============================] - 28s 94ms/step - loss: 0.0203 - val_loss: 0.0220\n",
      "Epoch 27/50\n",
      "300/300 [==============================] - 27s 90ms/step - loss: 0.0201 - val_loss: 0.0224\n",
      "Epoch 28/50\n",
      "300/300 [==============================] - 27s 90ms/step - loss: 0.0203 - val_loss: 0.0209\n",
      "Epoch 29/50\n",
      "300/300 [==============================] - 31s 104ms/step - loss: 0.0200 - val_loss: 0.0216\n",
      "Epoch 30/50\n",
      "300/300 [==============================] - 29s 97ms/step - loss: 0.0200 - val_loss: 0.0222\n",
      "Epoch 31/50\n",
      "300/300 [==============================] - 28s 93ms/step - loss: 0.0192 - val_loss: 0.0212\n",
      "Epoch 32/50\n",
      "300/300 [==============================] - 27s 89ms/step - loss: 0.0191 - val_loss: 0.0210\n",
      "Epoch 33/50\n",
      "300/300 [==============================] - 26s 88ms/step - loss: 0.0192 - val_loss: 0.0216\n",
      "Epoch 34/50\n",
      "300/300 [==============================] - 26s 87ms/step - loss: 0.0188 - val_loss: 0.0207\n",
      "Epoch 35/50\n",
      "300/300 [==============================] - 26s 85ms/step - loss: 0.0187 - val_loss: 0.0218\n",
      "Epoch 36/50\n",
      "300/300 [==============================] - 25s 85ms/step - loss: 0.0188 - val_loss: 0.0207\n",
      "Epoch 37/50\n",
      "300/300 [==============================] - 25s 85ms/step - loss: 0.0185 - val_loss: 0.0212\n",
      "Epoch 38/50\n",
      "300/300 [==============================] - 26s 85ms/step - loss: 0.0180 - val_loss: 0.0208\n",
      "Epoch 39/50\n",
      "300/300 [==============================] - 25s 85ms/step - loss: 0.0178 - val_loss: 0.0195\n",
      "Epoch 40/50\n",
      "300/300 [==============================] - 26s 86ms/step - loss: 0.0180 - val_loss: 0.0204\n",
      "Epoch 41/50\n",
      "300/300 [==============================] - 25s 85ms/step - loss: 0.0175 - val_loss: 0.0198\n",
      "Epoch 42/50\n",
      "300/300 [==============================] - 26s 85ms/step - loss: 0.0174 - val_loss: 0.0199\n",
      "Epoch 43/50\n",
      "300/300 [==============================] - 26s 86ms/step - loss: 0.0170 - val_loss: 0.0212\n",
      "Epoch 44/50\n",
      "300/300 [==============================] - 25s 84ms/step - loss: 0.0171 - val_loss: 0.0204\n",
      "Epoch 45/50\n",
      "300/300 [==============================] - 25s 84ms/step - loss: 0.0170 - val_loss: 0.0197\n",
      "Epoch 46/50\n",
      "300/300 [==============================] - 26s 85ms/step - loss: 0.0168 - val_loss: 0.0201\n",
      "Epoch 47/50\n",
      "300/300 [==============================] - 27s 90ms/step - loss: 0.0166 - val_loss: 0.0200\n",
      "Epoch 48/50\n",
      "300/300 [==============================] - 26s 86ms/step - loss: 0.0164 - val_loss: 0.0202\n",
      "Epoch 49/50\n",
      "300/300 [==============================] - 26s 86ms/step - loss: 0.0167 - val_loss: 0.0209\n",
      "Epoch 50/50\n",
      "300/300 [==============================] - 26s 85ms/step - loss: 0.0162 - val_loss: 0.0202\n"
     ]
    }
   ],
   "source": [
    "#taking len(X_train)//64 = 36 images for steps for each epoch \n",
    "history = model.fit(batch_generator(X_train,y_train,64), steps_per_epoch = 300, epochs = 100, callbacks = [mc],\n",
    "                    validation_data = batch_generator(X_test,y_test,64), validation_steps = 200)"
   ]
  },
  {
   "cell_type": "code",
   "execution_count": 24,
   "id": "2222e55d",
   "metadata": {
    "tags": []
   },
   "outputs": [
    {
     "name": "stdout",
     "output_type": "stream",
     "text": [
      "Epoch 1/50\n",
      "300/300 [==============================] - 441s 1s/step - loss: 0.0433 - val_loss: 0.0334\n",
      "Epoch 2/50\n",
      "300/300 [==============================] - 139s 465ms/step - loss: 0.0359 - val_loss: 0.0326\n",
      "Epoch 3/50\n",
      "300/300 [==============================] - 58s 195ms/step - loss: 0.0327 - val_loss: 0.0308\n",
      "Epoch 4/50\n",
      "300/300 [==============================] - 37s 122ms/step - loss: 0.0312 - val_loss: 0.0285\n",
      "Epoch 5/50\n",
      "300/300 [==============================] - 28s 94ms/step - loss: 0.0302 - val_loss: 0.0287\n",
      "Epoch 6/50\n",
      "300/300 [==============================] - 26s 87ms/step - loss: 0.0289 - val_loss: 0.0272\n",
      "Epoch 7/50\n",
      "300/300 [==============================] - 28s 92ms/step - loss: 0.0275 - val_loss: 0.0265\n",
      "Epoch 8/50\n",
      "300/300 [==============================] - 26s 88ms/step - loss: 0.0266 - val_loss: 0.0271\n",
      "Epoch 9/50\n",
      "300/300 [==============================] - 26s 85ms/step - loss: 0.0269 - val_loss: 0.0259\n",
      "Epoch 10/50\n",
      "300/300 [==============================] - 25s 84ms/step - loss: 0.0263 - val_loss: 0.0250\n",
      "Epoch 11/50\n",
      "300/300 [==============================] - 25s 84ms/step - loss: 0.0259 - val_loss: 0.0255\n",
      "Epoch 12/50\n",
      "300/300 [==============================] - 24s 80ms/step - loss: 0.0244 - val_loss: 0.0244\n",
      "Epoch 13/50\n",
      "300/300 [==============================] - 27s 90ms/step - loss: 0.0243 - val_loss: 0.0248\n",
      "Epoch 14/50\n",
      "300/300 [==============================] - 27s 89ms/step - loss: 0.0245 - val_loss: 0.0242\n",
      "Epoch 15/50\n",
      "300/300 [==============================] - 28s 94ms/step - loss: 0.0240 - val_loss: 0.0247\n",
      "Epoch 16/50\n",
      "300/300 [==============================] - 110s 367ms/step - loss: 0.0238 - val_loss: 0.0245\n",
      "Epoch 17/50\n",
      "300/300 [==============================] - 115s 385ms/step - loss: 0.0234 - val_loss: 0.0238\n",
      "Epoch 18/50\n",
      "300/300 [==============================] - 62s 207ms/step - loss: 0.0226 - val_loss: 0.0243\n",
      "Epoch 19/50\n",
      "300/300 [==============================] - 37s 125ms/step - loss: 0.0227 - val_loss: 0.0241\n",
      "Epoch 20/50\n",
      "300/300 [==============================] - 30s 99ms/step - loss: 0.0219 - val_loss: 0.0235\n",
      "Epoch 21/50\n",
      "300/300 [==============================] - 29s 97ms/step - loss: 0.0220 - val_loss: 0.0235\n",
      "Epoch 22/50\n",
      "300/300 [==============================] - 27s 89ms/step - loss: 0.0218 - val_loss: 0.0234\n",
      "Epoch 23/50\n",
      "300/300 [==============================] - 27s 91ms/step - loss: 0.0214 - val_loss: 0.0226\n",
      "Epoch 24/50\n",
      "300/300 [==============================] - 27s 89ms/step - loss: 0.0210 - val_loss: 0.0224\n",
      "Epoch 25/50\n",
      "300/300 [==============================] - 27s 89ms/step - loss: 0.0208 - val_loss: 0.0221\n",
      "Epoch 26/50\n",
      "300/300 [==============================] - 28s 94ms/step - loss: 0.0203 - val_loss: 0.0220\n",
      "Epoch 27/50\n",
      "300/300 [==============================] - 27s 90ms/step - loss: 0.0201 - val_loss: 0.0224\n",
      "Epoch 28/50\n",
      "300/300 [==============================] - 27s 90ms/step - loss: 0.0203 - val_loss: 0.0209\n",
      "Epoch 29/50\n",
      "300/300 [==============================] - 31s 104ms/step - loss: 0.0200 - val_loss: 0.0216\n",
      "Epoch 30/50\n",
      "300/300 [==============================] - 29s 97ms/step - loss: 0.0200 - val_loss: 0.0222\n",
      "Epoch 31/50\n",
      "300/300 [==============================] - 28s 93ms/step - loss: 0.0192 - val_loss: 0.0212\n",
      "Epoch 32/50\n",
      "300/300 [==============================] - 27s 89ms/step - loss: 0.0191 - val_loss: 0.0210\n",
      "Epoch 33/50\n",
      "300/300 [==============================] - 26s 88ms/step - loss: 0.0192 - val_loss: 0.0216\n",
      "Epoch 34/50\n",
      "300/300 [==============================] - 26s 87ms/step - loss: 0.0188 - val_loss: 0.0207\n",
      "Epoch 35/50\n",
      "300/300 [==============================] - 26s 85ms/step - loss: 0.0187 - val_loss: 0.0218\n",
      "Epoch 36/50\n",
      "300/300 [==============================] - 25s 85ms/step - loss: 0.0188 - val_loss: 0.0207\n",
      "Epoch 37/50\n",
      "300/300 [==============================] - 25s 85ms/step - loss: 0.0185 - val_loss: 0.0212\n",
      "Epoch 38/50\n",
      "300/300 [==============================] - 26s 85ms/step - loss: 0.0180 - val_loss: 0.0208\n",
      "Epoch 39/50\n",
      "300/300 [==============================] - 25s 85ms/step - loss: 0.0178 - val_loss: 0.0195\n",
      "Epoch 40/50\n",
      "300/300 [==============================] - 26s 86ms/step - loss: 0.0180 - val_loss: 0.0204\n",
      "Epoch 41/50\n",
      "300/300 [==============================] - 25s 85ms/step - loss: 0.0175 - val_loss: 0.0198\n",
      "Epoch 42/50\n",
      "300/300 [==============================] - 26s 85ms/step - loss: 0.0174 - val_loss: 0.0199\n",
      "Epoch 43/50\n",
      "300/300 [==============================] - 26s 86ms/step - loss: 0.0170 - val_loss: 0.0212\n",
      "Epoch 44/50\n",
      "300/300 [==============================] - 25s 84ms/step - loss: 0.0171 - val_loss: 0.0204\n",
      "Epoch 45/50\n",
      "300/300 [==============================] - 25s 84ms/step - loss: 0.0170 - val_loss: 0.0197\n",
      "Epoch 46/50\n",
      "300/300 [==============================] - 26s 85ms/step - loss: 0.0168 - val_loss: 0.0201\n",
      "Epoch 47/50\n",
      "300/300 [==============================] - 27s 90ms/step - loss: 0.0166 - val_loss: 0.0200\n",
      "Epoch 48/50\n",
      "300/300 [==============================] - 26s 86ms/step - loss: 0.0164 - val_loss: 0.0202\n",
      "Epoch 49/50\n",
      "300/300 [==============================] - 26s 86ms/step - loss: 0.0167 - val_loss: 0.0209\n",
      "Epoch 50/50\n",
      "300/300 [==============================] - 26s 85ms/step - loss: 0.0162 - val_loss: 0.0202\n"
     ]
    }
   ],
   "source": [
    "#taking len(X_train)//64 = 36 images for steps for each epoch \n",
    "history = model.fit(batch_generator(X_train,y_train,64), steps_per_epoch = 300, epochs = 100, callbacks = [mc],\n",
    "                    validation_data = batch_generator(X_test,y_test,64), validation_steps = 200)"
   ]
  },
  {
   "cell_type": "code",
   "execution_count": 22,
   "id": "753875a2",
   "metadata": {
    "tags": []
   },
   "outputs": [
    {
     "name": "stdout",
     "output_type": "stream",
     "text": [
      "The validation loss is : [0.03336939215660095, 0.032586172223091125, 0.03084762766957283, 0.02854510024189949, 0.02872016839683056, 0.027167703956365585, 0.026534145697951317, 0.02712448127567768, 0.025865977630019188, 0.02499328926205635, 0.025528177618980408, 0.024358466267585754, 0.024772582575678825, 0.024230197072029114, 0.024691246449947357, 0.024467887356877327, 0.023799560964107513, 0.024297649040818214, 0.024094225838780403, 0.023487545549869537, 0.023465316742658615, 0.023439627140760422, 0.022564545273780823, 0.02235283888876438, 0.02213430218398571, 0.0220329612493515, 0.02235216647386551, 0.020920472219586372, 0.02163979597389698, 0.022156545892357826, 0.021155688911676407, 0.020976554602384567, 0.021567311137914658, 0.020728163421154022, 0.021769268438220024, 0.020714793354272842, 0.02122291550040245, 0.020817464217543602, 0.019499532878398895, 0.020381253212690353, 0.0197721179574728, 0.019889598712325096, 0.02115669660270214, 0.020431052893400192, 0.01970042660832405, 0.020137526094913483, 0.02001679502427578, 0.020168766379356384, 0.020927632227540016, 0.0202056672424078]\n",
      "The training loss is : [0.04325484856963158, 0.03586506471037865, 0.03265601024031639, 0.03115212172269821, 0.03016570769250393, 0.02887295000255108, 0.027539892122149467, 0.026614900678396225, 0.026920506730675697, 0.02627219259738922, 0.025864876806735992, 0.0244394913315773, 0.024271022528409958, 0.02452007681131363, 0.024027012288570404, 0.02375057525932789, 0.02337939664721489, 0.02263062819838524, 0.02274145372211933, 0.021886777132749557, 0.022039320319890976, 0.02176758274435997, 0.02138279564678669, 0.021041233092546463, 0.020814524963498116, 0.02025148645043373, 0.0200825072824955, 0.02029542066156864, 0.020044632256031036, 0.020028043538331985, 0.019238978624343872, 0.01907055638730526, 0.019156863912940025, 0.018824279308319092, 0.018671009689569473, 0.018775051459670067, 0.01845162734389305, 0.01802561990916729, 0.0178493894636631, 0.01796867698431015, 0.017515243962407112, 0.017377257347106934, 0.01700286939740181, 0.017091263085603714, 0.017002487555146217, 0.01683208718895912, 0.016637688502669334, 0.01642257161438465, 0.0167401023209095, 0.01621151529252529]\n"
     ]
    }
   ],
   "source": [
    "# print(\"The validation accuracy is :\", history.history['val_accuracy'])\n",
    "# print(\"The training accuracy is :\", history.history['accuracy'])\n",
    "print(\"The validation loss is :\", history.history['val_loss'])\n",
    "print(\"The training loss is :\", history.history['loss'])"
   ]
  },
  {
   "cell_type": "code",
   "execution_count": 23,
   "id": "f74c609e",
   "metadata": {
    "tags": []
   },
   "outputs": [
    {
     "data": {
      "image/png": "[encoded data removed]",
      "text/plain": [
       "<Figure size 600x600 with 1 Axes>"
      ]
     },
     "metadata": {},
     "output_type": "display_data"
    }
   ],
   "source": [
    "plt.figure(figsize = (6,6))\n",
    "plt.plot(history.history['loss'], label='train')\n",
    "plt.plot(history.history['val_loss'], label='test')\n",
    "plt.legend()\n",
    "plt.title(\"Model Loss\")\n",
    "plt.show()"
   ]
  },
  {
   "cell_type": "code",
   "execution_count": 31,
   "id": "60704dac",
   "metadata": {
    "tags": []
   },
   "outputs": [
    {
     "data": {
      "image/png": "[encoded data removed]",
      "text/plain": [
       "<Figure size 432x432 with 1 Axes>"
      ]
     },
     "metadata": {
      "needs_background": "light"
     },
     "output_type": "display_data"
    }
   ],
   "source": [
    "plt.figure(figsize = (6,6))\n",
    "plt.plot(history.history['accuracy'], label='train')\n",
    "plt.plot(history.history['val_accuracy'], label='test')\n",
    "plt.legend()\n",
    "plt.title(\"Model Accuracy\")\n",
    "plt.show()"
   ]
  },
  {
   "cell_type": "code",
   "execution_count": 21,
   "id": "7ea44f6c",
   "metadata": {},
   "outputs": [
    {
     "data": {
      "image/png": "[encoded data removed]",
      "text/plain": [
       "<Figure size 432x288 with 1 Axes>"
      ]
     },
     "metadata": {
      "needs_background": "light"
     },
     "output_type": "display_data"
    }
   ],
   "source": [
    "plt.plot(history.history['loss'])\n",
    "\n",
    "plt.ylabel(\"Loss\")\n",
    "plt.xlabel(\"Epoch\")\n",
    "\n",
    "plt.show()"
   ]
  },
  {
   "cell_type": "code",
   "execution_count": 22,
   "id": "1e216577",
   "metadata": {},
   "outputs": [
    {
     "data": {
      "image/png": "[encoded data removed]",
      "text/plain": [
       "<Figure size 432x288 with 1 Axes>"
      ]
     },
     "metadata": {
      "needs_background": "light"
     },
     "output_type": "display_data"
    }
   ],
   "source": [
    "plt.plot(history.history['val_loss'])\n",
    "\n",
    "plt.ylabel(\"Loss\")\n",
    "plt.xlabel(\"Epoch\")\n",
    "\n",
    "plt.show()"
   ]
  },
  {
   "cell_type": "code",
   "execution_count": 23,
   "id": "09acccab",
   "metadata": {},
   "outputs": [],
   "source": [
    "model.save('Model.h5')"
   ]
  },
  {
   "cell_type": "code",
   "execution_count": null,
   "id": "3e73e982",
   "metadata": {},
   "outputs": [],
   "source": []
  }
 ],
 "metadata": {
  "kernelspec": {
   "display_name": "Python 3 (ipykernel)",
   "language": "python",
   "name": "python3"
  },
  "language_info": {
   "codemirror_mode": {
    "name": "ipython",
    "version": 3
   },
   "file_extension": ".py",
   "mimetype": "text/x-python",
   "name": "python",
   "nbconvert_exporter": "python",
   "pygments_lexer": "ipython3",
   "version": "3.8.10"
  }
 },
 "nbformat": 4,
 "nbformat_minor": 5
}
