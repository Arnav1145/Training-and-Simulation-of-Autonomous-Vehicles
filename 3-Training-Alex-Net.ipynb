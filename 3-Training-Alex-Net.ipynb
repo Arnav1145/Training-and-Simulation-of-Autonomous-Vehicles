{
 "cells": [
  {
   "cell_type": "code",
   "execution_count": 8,
   "id": "51cc7518",
   "metadata": {
    "tags": []
   },
   "outputs": [],
   "source": [
    "import cv2 as cv\n",
    "import numpy as np\n",
    "\n",
    "import matplotlib.pyplot as plt\n",
    "\n",
    "from keras.optimizers import Adam\n",
    "\n",
    "from sklearn.model_selection import train_test_split\n",
    "from keras.models import Sequential, load_model\n",
    "from keras.layers import Convolution2D,Flatten,Dense,Dropout,MaxPooling2D,Lambda\n",
    "from keras.callbacks import EarlyStopping, ModelCheckpoint"
   ]
  },
  {
   "cell_type": "code",
   "execution_count": 2,
   "id": "b9e473e5",
   "metadata": {
    "tags": []
   },
   "outputs": [],
   "source": [
    "data = np.load('Preprocessed_data.npy')\n",
    "imgs = data[0]\n",
    "steering = data[1]\n",
    "\n",
    "#splitting the dataset into train and test\n",
    "X_train, X_test, y_train, y_test = train_test_split(imgs, steering, test_size= 0.2)"
   ]
  },
  {
   "cell_type": "code",
   "execution_count": 3,
   "id": "5bcd819d",
   "metadata": {
    "tags": []
   },
   "outputs": [
    {
     "name": "stdout",
     "output_type": "stream",
     "text": [
      "(18271,)\n",
      "(4568,)\n",
      "(18271,)\n",
      "(4568,)\n"
     ]
    }
   ],
   "source": [
    "print(X_train.shape)\n",
    "print(X_test.shape)\n",
    "\n",
    "print(y_train.shape)\n",
    "print(y_test.shape)"
   ]
  },
  {
   "cell_type": "markdown",
   "id": "18fd6a52",
   "metadata": {},
   "source": [
    "### Image Processing, Batch generator and Image Augmentation"
   ]
  },
  {
   "cell_type": "code",
   "execution_count": 4,
   "id": "fda5f0d6",
   "metadata": {
    "tags": []
   },
   "outputs": [],
   "source": [
    "#refer to Image Processing notebook for more details\n",
    "#about this cell\n",
    "\n",
    "#Now combining the brigtness control and\n",
    "#image fliping in one function\n",
    "#this function of augmentation is also going to\n",
    "#be a batch generator\n",
    "\n",
    "def batch_generator(imgs,steering,batch_size):\n",
    "    \n",
    "    #infinite loop\n",
    "    while True:\n",
    "        \n",
    "        X=[]\n",
    "        y=[]\n",
    "        \n",
    "        #running the whole process for each batch of images\n",
    "        for i in range(batch_size):\n",
    "        \n",
    "            #getting random image index from imgs\n",
    "            index = np.random.randint(0,len(imgs)-1)\n",
    "            #passing and reading the random image index\n",
    "            img = cv.imread(imgs[index])\n",
    "            \n",
    "            #converting the image to yuv as discussed above\n",
    "            img = cv.cvtColor(img, cv.COLOR_BGR2YUV)\n",
    "            #or img = bgr2yuv(img)\n",
    "            \n",
    "            #cropping image as discussed above\n",
    "            img = img[60:135,:,:]\n",
    "            #or img = crop_img(img)\n",
    "            \n",
    "            #adjusting for the model's first layer  with size (66,200,3) as input\n",
    "            img = cv.resize(img, (200,66))\n",
    "            \n",
    "            #instead of going for each image brigntness control\n",
    "            #we will go for only random images\n",
    "            if (np.random.rand()>0.5):\n",
    "                #brightness control\n",
    "                brigtness_cont = np.random.randint(1,4)\n",
    "                img = (img/ brigtness_cont).astype(np.uint8)\n",
    "\n",
    "            #similarly for fliping the image\n",
    "            if (np.random.rand()>0.5):\n",
    "                #image fliping\n",
    "                img = cv.flip(img,1)\n",
    "                steering_angle = -float(steering[index])\n",
    "            else:\n",
    "                steering_angle = float(steering[index])\n",
    "\n",
    "            X.append(img)\n",
    "            # y.append(steering_angle)\n",
    "            y.append(float(steering[index]))\n",
    "        \n",
    "        #converting the image \n",
    "        # and steering_angle processed into the numpy array\n",
    "        X = np.array(X)\n",
    "        y = np.array(y)\n",
    "        \n",
    "        \n",
    "        #Yield is a keyword in Python that is used to return from a function \n",
    "        #without destroying the states of its local variable and\n",
    "        #when the function is called, the execution starts from the last yield statement. \n",
    "        #Any function that contains a yield keyword is termed a generator. \n",
    "        #Hence, yield is what makes a generator. \n",
    "        yield X,y"
   ]
  },
  {
   "cell_type": "code",
   "execution_count": 14,
   "id": "231bcda8",
   "metadata": {
    "tags": []
   },
   "outputs": [],
   "source": [
    "model = Sequential()\n",
    "\n",
    "model.add(Lambda(lambda x : x/127.5 - 1.0, input_shape=(66,200,3)))\n",
    "model.add(Convolution2D(32, (3,3), strides = (2,2), activation = 'elu'))\n",
    "model.add(MaxPooling2D(pool_size = (2,2)))\n",
    "model.add(Dropout(0.25))\n",
    "model.add(Convolution2D(64, (3,3), activation='elu', strides = (2,2)))\n",
    "model.add(MaxPooling2D(pool_size=(2,2)))\n",
    "model.add(Dropout(0.25))\n",
    "model.add(Convolution2D(128, (3,3),activation='elu',strides=(2,2)))\n",
    "model.add(Dropout(0.5))\n",
    "model.add(Flatten())\n",
    "model.add(Dense(1024,activation='relu'))\n",
    "model.add(Dropout(0.5))\n",
    "model.add(Dense(1))\n",
    "\n",
    "model.compile(optimizer = Adam(learning_rate = 0.0001), loss = 'mse')"
   ]
  },
  {
   "cell_type": "code",
   "execution_count": 15,
   "id": "bbaa653f",
   "metadata": {
    "tags": []
   },
   "outputs": [
    {
     "name": "stdout",
     "output_type": "stream",
     "text": [
      "Model: \"sequential_5\"\n",
      "_________________________________________________________________\n",
      " Layer (type)                Output Shape              Param #   \n",
      "=================================================================\n",
      " lambda_5 (Lambda)           (None, 66, 200, 3)        0         \n",
      "                                                                 \n",
      " conv2d_9 (Conv2D)           (None, 32, 99, 32)        896       \n",
      "                                                                 \n",
      " max_pooling2d_7 (MaxPooling  (None, 16, 49, 32)       0         \n",
      " 2D)                                                             \n",
      "                                                                 \n",
      " dropout_11 (Dropout)        (None, 16, 49, 32)        0         \n",
      "                                                                 \n",
      " conv2d_10 (Conv2D)          (None, 7, 24, 64)         18496     \n",
      "                                                                 \n",
      " max_pooling2d_8 (MaxPooling  (None, 3, 12, 64)        0         \n",
      " 2D)                                                             \n",
      "                                                                 \n",
      " dropout_12 (Dropout)        (None, 3, 12, 64)         0         \n",
      "                                                                 \n",
      " conv2d_11 (Conv2D)          (None, 1, 5, 128)         73856     \n",
      "                                                                 \n",
      " dropout_13 (Dropout)        (None, 1, 5, 128)         0         \n",
      "                                                                 \n",
      " flatten_2 (Flatten)         (None, 640)               0         \n",
      "                                                                 \n",
      " dense_3 (Dense)             (None, 1024)              656384    \n",
      "                                                                 \n",
      " dropout_14 (Dropout)        (None, 1024)              0         \n",
      "                                                                 \n",
      " dense_4 (Dense)             (None, 1)                 1025      \n",
      "                                                                 \n",
      "=================================================================\n",
      "Total params: 750,657\n",
      "Trainable params: 750,657\n",
      "Non-trainable params: 0\n",
      "_________________________________________________________________\n"
     ]
    }
   ],
   "source": [
    "model.summary()"
   ]
  },
  {
   "cell_type": "code",
   "execution_count": 20,
   "id": "06d42a46",
   "metadata": {
    "tags": []
   },
   "outputs": [],
   "source": [
    "# es = EarlyStopping(monitor='val_loss', mode='min', verbose=1, patience=10, min_delta=0.0001) \n",
    "mc = ModelCheckpoint('min_loss_model_vgg_100.h5', monitor='val_loss', verbose=0, save_best_only=True, mode='auto')"
   ]
  },
  {
   "cell_type": "code",
   "execution_count": 21,
   "id": "71da2680",
   "metadata": {
    "tags": []
   },
   "outputs": [
    {
     "name": "stdout",
     "output_type": "stream",
     "text": [
      "Epoch 1/50\n",
      "300/300 [==============================] - 323s 1s/step - loss: 0.0202 - val_loss: 0.0183\n",
      "Epoch 2/50\n",
      "300/300 [==============================] - 104s 349ms/step - loss: 0.0203 - val_loss: 0.0183\n",
      "Epoch 3/50\n",
      "300/300 [==============================] - 44s 148ms/step - loss: 0.0204 - val_loss: 0.0184\n",
      "Epoch 4/50\n",
      "300/300 [==============================] - 33s 111ms/step - loss: 0.0204 - val_loss: 0.0187\n",
      "Epoch 5/50\n",
      "300/300 [==============================] - 28s 93ms/step - loss: 0.0207 - val_loss: 0.0189\n",
      "Epoch 6/50\n",
      "300/300 [==============================] - 26s 88ms/step - loss: 0.0199 - val_loss: 0.0181\n",
      "Epoch 7/50\n",
      "300/300 [==============================] - 26s 86ms/step - loss: 0.0199 - val_loss: 0.0187\n",
      "Epoch 8/50\n",
      "300/300 [==============================] - 26s 87ms/step - loss: 0.0203 - val_loss: 0.0185\n",
      "Epoch 9/50\n",
      "300/300 [==============================] - 26s 87ms/step - loss: 0.0197 - val_loss: 0.0180\n",
      "Epoch 10/50\n",
      "300/300 [==============================] - 26s 88ms/step - loss: 0.0198 - val_loss: 0.0179\n",
      "Epoch 11/50\n",
      "300/300 [==============================] - 27s 90ms/step - loss: 0.0194 - val_loss: 0.0185\n",
      "Epoch 12/50\n",
      "300/300 [==============================] - 28s 93ms/step - loss: 0.0197 - val_loss: 0.0180\n",
      "Epoch 13/50\n",
      "300/300 [==============================] - 29s 96ms/step - loss: 0.0202 - val_loss: 0.0179\n",
      "Epoch 14/50\n",
      "300/300 [==============================] - 29s 96ms/step - loss: 0.0194 - val_loss: 0.0173\n",
      "Epoch 15/50\n",
      "300/300 [==============================] - 29s 95ms/step - loss: 0.0193 - val_loss: 0.0174\n",
      "Epoch 16/50\n",
      "300/300 [==============================] - 27s 90ms/step - loss: 0.0198 - val_loss: 0.0176\n",
      "Epoch 17/50\n",
      "300/300 [==============================] - 26s 86ms/step - loss: 0.0199 - val_loss: 0.0179\n",
      "Epoch 18/50\n",
      "300/300 [==============================] - 26s 86ms/step - loss: 0.0192 - val_loss: 0.0175\n",
      "Epoch 19/50\n",
      "300/300 [==============================] - 26s 86ms/step - loss: 0.0200 - val_loss: 0.0177\n",
      "Epoch 20/50\n",
      "300/300 [==============================] - 26s 87ms/step - loss: 0.0192 - val_loss: 0.0177\n",
      "Epoch 21/50\n",
      "300/300 [==============================] - 26s 86ms/step - loss: 0.0198 - val_loss: 0.0176\n",
      "Epoch 22/50\n",
      "300/300 [==============================] - 26s 86ms/step - loss: 0.0194 - val_loss: 0.0176\n",
      "Epoch 23/50\n",
      "300/300 [==============================] - 26s 87ms/step - loss: 0.0192 - val_loss: 0.0183\n",
      "Epoch 24/50\n",
      "300/300 [==============================] - 26s 87ms/step - loss: 0.0193 - val_loss: 0.0180\n",
      "Epoch 25/50\n",
      "300/300 [==============================] - 26s 87ms/step - loss: 0.0188 - val_loss: 0.0180\n",
      "Epoch 26/50\n",
      "300/300 [==============================] - 27s 89ms/step - loss: 0.0190 - val_loss: 0.0171\n",
      "Epoch 27/50\n",
      "300/300 [==============================] - 26s 87ms/step - loss: 0.0192 - val_loss: 0.0183\n",
      "Epoch 28/50\n",
      "300/300 [==============================] - 26s 86ms/step - loss: 0.0192 - val_loss: 0.0174\n",
      "Epoch 29/50\n",
      "300/300 [==============================] - 26s 87ms/step - loss: 0.0193 - val_loss: 0.0179\n",
      "Epoch 30/50\n",
      "300/300 [==============================] - 26s 86ms/step - loss: 0.0186 - val_loss: 0.0174\n",
      "Epoch 31/50\n",
      "300/300 [==============================] - 26s 87ms/step - loss: 0.0187 - val_loss: 0.0174\n",
      "Epoch 32/50\n",
      "300/300 [==============================] - 27s 91ms/step - loss: 0.0192 - val_loss: 0.0168\n",
      "Epoch 33/50\n",
      "300/300 [==============================] - 27s 89ms/step - loss: 0.0186 - val_loss: 0.0175\n",
      "Epoch 34/50\n",
      "300/300 [==============================] - 27s 89ms/step - loss: 0.0188 - val_loss: 0.0170\n",
      "Epoch 35/50\n",
      "300/300 [==============================] - 27s 89ms/step - loss: 0.0189 - val_loss: 0.0167\n",
      "Epoch 36/50\n",
      "300/300 [==============================] - 27s 89ms/step - loss: 0.0188 - val_loss: 0.0167\n",
      "Epoch 37/50\n",
      "300/300 [==============================] - 26s 88ms/step - loss: 0.0187 - val_loss: 0.0177\n",
      "Epoch 38/50\n",
      "300/300 [==============================] - 27s 89ms/step - loss: 0.0185 - val_loss: 0.0172\n",
      "Epoch 39/50\n",
      "300/300 [==============================] - 26s 88ms/step - loss: 0.0182 - val_loss: 0.0174\n",
      "Epoch 40/50\n",
      "300/300 [==============================] - 26s 87ms/step - loss: 0.0184 - val_loss: 0.0168\n",
      "Epoch 41/50\n",
      "300/300 [==============================] - 26s 86ms/step - loss: 0.0186 - val_loss: 0.0173\n",
      "Epoch 42/50\n",
      "300/300 [==============================] - 26s 86ms/step - loss: 0.0184 - val_loss: 0.0168\n",
      "Epoch 43/50\n",
      "300/300 [==============================] - 26s 86ms/step - loss: 0.0184 - val_loss: 0.0177\n",
      "Epoch 44/50\n",
      "300/300 [==============================] - 26s 86ms/step - loss: 0.0186 - val_loss: 0.0170\n",
      "Epoch 45/50\n",
      "300/300 [==============================] - 26s 86ms/step - loss: 0.0182 - val_loss: 0.0168\n",
      "Epoch 46/50\n",
      "300/300 [==============================] - 26s 87ms/step - loss: 0.0178 - val_loss: 0.0171\n",
      "Epoch 47/50\n",
      "300/300 [==============================] - 26s 87ms/step - loss: 0.0184 - val_loss: 0.0166\n",
      "Epoch 48/50\n",
      "300/300 [==============================] - 26s 85ms/step - loss: 0.0181 - val_loss: 0.0169\n",
      "Epoch 49/50\n",
      "300/300 [==============================] - 26s 85ms/step - loss: 0.0180 - val_loss: 0.0174\n",
      "Epoch 50/50\n",
      "300/300 [==============================] - 26s 86ms/step - loss: 0.0182 - val_loss: 0.0167\n"
     ]
    }
   ],
   "source": [
    "#taking len(X_train)//64 = 36 images for steps for each epoch \n",
    "history = model.fit(batch_generator(X_train,y_train,64), steps_per_epoch = 300, epochs = 50, callbacks = [mc],\n",
    "                    validation_data = batch_generator(X_test,y_test,64), validation_steps = 200)"
   ]
  },
  {
   "cell_type": "code",
   "execution_count": 18,
   "id": "4988b26f-c0b2-4d0f-9238-e27804afc788",
   "metadata": {
    "tags": []
   },
   "outputs": [
    {
     "name": "stdout",
     "output_type": "stream",
     "text": [
      "The validation loss is : [0.04011804983019829, 0.036759134382009506, 0.03433549031615257, 0.03302076458930969, 0.030520321801304817, 0.028256839141249657, 0.026973053812980652, 0.026137618348002434, 0.02461564540863037, 0.025487584993243217, 0.02474462054669857, 0.024312343448400497, 0.023497845977544785, 0.022968199104070663, 0.023527154698967934, 0.022948723286390305, 0.022659599781036377, 0.021920960396528244, 0.021947842091321945, 0.022019609808921814, 0.021317293867468834, 0.02131405659019947, 0.020335931330919266, 0.02157408930361271, 0.020741550251841545, 0.021247602999210358, 0.02110132947564125, 0.020386602729558945, 0.020137954503297806, 0.020143166184425354, 0.019970035180449486, 0.019154878333210945, 0.019595041871070862, 0.01972021907567978, 0.01914028637111187, 0.019346296787261963, 0.019369637593626976, 0.01927957683801651, 0.01884882152080536, 0.019267447292804718, 0.01891893893480301, 0.018768617883324623, 0.01842655800282955, 0.018692564219236374, 0.01905713602900505, 0.01858130842447281, 0.018444441258907318, 0.01875120773911476, 0.01877700351178646, 0.018541257828474045]\n",
      "The training loss is : [0.05010407790541649, 0.04082575440406799, 0.03838247060775757, 0.03651514649391174, 0.03407607972621918, 0.03329026326537132, 0.030900510028004646, 0.029608286917209625, 0.02914818748831749, 0.0281706303358078, 0.027096059173345566, 0.026442203670740128, 0.026704994961619377, 0.02587927132844925, 0.02540888823568821, 0.025376472622156143, 0.025065843015909195, 0.024487247690558434, 0.024258079007267952, 0.024227917194366455, 0.02391931414604187, 0.023357834666967392, 0.02327052503824234, 0.023613300174474716, 0.0231466181576252, 0.02305063046514988, 0.022437958046793938, 0.0224787425249815, 0.022760311141610146, 0.02270374819636345, 0.021998563781380653, 0.021971512585878372, 0.021701229736208916, 0.021518073976039886, 0.0217285118997097, 0.021458696573972702, 0.021669810637831688, 0.021485578268766403, 0.02137419767677784, 0.021157708019018173, 0.021048156544566154, 0.020885953679680824, 0.02125004678964615, 0.02031882107257843, 0.020779680460691452, 0.02059078775346279, 0.021021811291575432, 0.02089267037808895, 0.020602300763130188, 0.020472213625907898]\n"
     ]
    }
   ],
   "source": [
    "# print(\"The validation accuracy is :\", history.history['val_accuracy'])\n",
    "# print(\"The training accuracy is :\", history.history['accuracy'])\n",
    "print(\"The validation loss is :\", history.history['val_loss'])\n",
    "print(\"The training loss is :\", history.history['loss'])"
   ]
  },
  {
   "cell_type": "code",
   "execution_count": 19,
   "id": "f74c609e",
   "metadata": {
    "tags": []
   },
   "outputs": [
    {
     "data": {
      "image/png": "[encoded data removed]",
      "text/plain": [
       "<Figure size 600x600 with 1 Axes>"
      ]
     },
     "metadata": {},
     "output_type": "display_data"
    }
   ],
   "source": [
    "plt.figure(figsize = (6,6))\n",
    "plt.plot(history.history['loss'], label='train')\n",
    "plt.plot(history.history['val_loss'], label='test')\n",
    "plt.legend()\n",
    "plt.title(\"Model Loss\")\n",
    "plt.show()"
   ]
  },
  {
   "cell_type": "code",
   "execution_count": 31,
   "id": "60704dac",
   "metadata": {
    "tags": []
   },
   "outputs": [
    {
     "data": {
      "image/png": "[encoded data removed]",
      "text/plain": [
       "<Figure size 432x432 with 1 Axes>"
      ]
     },
     "metadata": {
      "needs_background": "light"
     },
     "output_type": "display_data"
    }
   ],
   "source": [
    "plt.figure(figsize = (6,6))\n",
    "plt.plot(history.history['accuracy'], label='train')\n",
    "plt.plot(history.history['val_accuracy'], label='test')\n",
    "plt.legend()\n",
    "plt.title(\"Model Accuracy\")\n",
    "plt.show()"
   ]
  },
  {
   "cell_type": "code",
   "execution_count": 21,
   "id": "7ea44f6c",
   "metadata": {},
   "outputs": [
    {
     "data": {
      "image/png": "[encoded data removed]",
      "text/plain": [
       "<Figure size 432x288 with 1 Axes>"
      ]
     },
     "metadata": {
      "needs_background": "light"
     },
     "output_type": "display_data"
    }
   ],
   "source": [
    "plt.plot(history.history['loss'])\n",
    "\n",
    "plt.ylabel(\"Loss\")\n",
    "plt.xlabel(\"Epoch\")\n",
    "\n",
    "plt.show()"
   ]
  },
  {
   "cell_type": "code",
   "execution_count": 22,
   "id": "1e216577",
   "metadata": {},
   "outputs": [
    {
     "data": {
      "image/png": "[encoded data removed]",
      "text/plain": [
       "<Figure size 432x288 with 1 Axes>"
      ]
     },
     "metadata": {
      "needs_background": "light"
     },
     "output_type": "display_data"
    }
   ],
   "source": [
    "plt.plot(history.history['val_loss'])\n",
    "\n",
    "plt.ylabel(\"Loss\")\n",
    "plt.xlabel(\"Epoch\")\n",
    "\n",
    "plt.show()"
   ]
  },
  {
   "cell_type": "code",
   "execution_count": 23,
   "id": "09acccab",
   "metadata": {},
   "outputs": [],
   "source": [
    "model.save('Model.h5')"
   ]
  },
  {
   "cell_type": "code",
   "execution_count": null,
   "id": "3e73e982",
   "metadata": {},
   "outputs": [],
   "source": []
  }
 ],
 "metadata": {
  "kernelspec": {
   "display_name": "Python 3 (ipykernel)",
   "language": "python",
   "name": "python3"
  },
  "language_info": {
   "codemirror_mode": {
    "name": "ipython",
    "version": 3
   },
   "file_extension": ".py",
   "mimetype": "text/x-python",
   "name": "python",
   "nbconvert_exporter": "python",
   "pygments_lexer": "ipython3",
   "version": "3.8.10"
  }
 },
 "nbformat": 4,
 "nbformat_minor": 5
}
